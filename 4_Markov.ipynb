{
 "cells": [
  {
   "cell_type": "markdown",
   "id": "4a50b951",
   "metadata": {},
   "source": [
    "# Finite Markov Chains"
   ]
  },
  {
   "cell_type": "markdown",
   "id": "e05562bd",
   "metadata": {},
   "source": [
    "## Contents\n",
    "\n",
    "- [Finite Markov Chains](#Finite-Markov-Chains)  \n",
    "  - [Overview](#Overview)  \n",
    "  - [Definitions](#Definitions)  \n",
    "  - [Simulation](#Simulation)  \n",
    "  - [Marginal Distributions](#Marginal-Distributions)  \n",
    "  - [Irreducibility and Aperiodicity](#Irreducibility-and-Aperiodicity)  \n",
    "  - [Stationary Distributions](#Stationary-Distributions)  \n",
    "  - [Ergodicity](#Ergodicity)  \n",
    "  - [Computing Expectations](#Computing-Expectations)  \n",
    "  - [Exercises](#Exercises)  "
   ]
  },
  {
   "cell_type": "markdown",
   "id": "a247bfae",
   "metadata": {},
   "source": [
    "## Overview\n",
    "\n",
    "Markov chains are one of the most useful classes of stochastic processes, being\n",
    "\n",
    "- simple, flexible and supported by many elegant theoretical results  \n",
    "- valuable for building intuition about random dynamic models  \n",
    "- central to quantitative modeling in their own right  \n",
    "\n",
    "\n",
    "You will find them in many of the workhorse models of economics and finance.\n",
    "\n",
    "In this lecture we review some of the theory of Markov chains.\n",
    "\n",
    "We will also introduce some of the high quality routines for working with Markov chains available in [QuantEcon.jl](http://quantecon.org/quantecon-jl).\n",
    "\n",
    "Prerequisite knowledge is basic probability and linear algebra."
   ]
  },
  {
   "cell_type": "code",
   "execution_count": 2,
   "id": "d64461ed-6d00-4c67-81a1-4cc1cf409f1c",
   "metadata": {
    "scrolled": true
   },
   "outputs": [
    {
     "name": "stderr",
     "output_type": "stream",
     "text": [
      "\u001b[32m\u001b[1m   Resolving\u001b[22m\u001b[39m package versions...\n",
      "\u001b[32m\u001b[1m   Installed\u001b[22m\u001b[39m ArrayInterface ─ v7.18.0\n",
      "\u001b[32m\u001b[1m   Installed\u001b[22m\u001b[39m NLopt_jll ────── v2.10.0+0\n",
      "\u001b[32m\u001b[1m   Installed\u001b[22m\u001b[39m NLopt ────────── v1.1.3\n",
      "\u001b[32m\u001b[1m   Installed\u001b[22m\u001b[39m FiniteDiff ───── v2.27.0\n",
      "\u001b[32m\u001b[1m   Installed\u001b[22m\u001b[39m Setfield ─────── v1.1.2\n",
      "\u001b[32m\u001b[1m   Installed\u001b[22m\u001b[39m Polynomials ──── v4.0.19\n",
      "\u001b[32m\u001b[1m   Installed\u001b[22m\u001b[39m Optim ────────── v1.11.0\n",
      "\u001b[32m\u001b[1m    Updating\u001b[22m\u001b[39m `~/.julia/environments/v1.11/Project.toml`\n",
      "  \u001b[90m[fcd29c91] \u001b[39m\u001b[92m+ QuantEcon v0.16.6\u001b[39m\n",
      "\u001b[32m\u001b[1m    Updating\u001b[22m\u001b[39m `~/.julia/environments/v1.11/Manifest.toml`\n",
      "  \u001b[90m[ec485272] \u001b[39m\u001b[92m+ ArnoldiMethod v0.4.0\u001b[39m\n",
      "  \u001b[90m[4fba245c] \u001b[39m\u001b[92m+ ArrayInterface v7.18.0\u001b[39m\n",
      "  \u001b[90m[fa961155] \u001b[39m\u001b[92m+ CEnum v0.5.0\u001b[39m\n",
      "  \u001b[90m[bbf7d656] \u001b[39m\u001b[92m+ CommonSubexpressions v0.3.1\u001b[39m\n",
      "  \u001b[90m[187b0558] \u001b[39m\u001b[92m+ ConstructionBase v1.5.8\u001b[39m\n",
      "\u001b[33m⌅\u001b[39m \u001b[90m[717857b8] \u001b[39m\u001b[92m+ DSP v0.7.10\u001b[39m\n",
      "  \u001b[90m[163ba53b] \u001b[39m\u001b[92m+ DiffResults v1.1.0\u001b[39m\n",
      "  \u001b[90m[b552c78f] \u001b[39m\u001b[92m+ DiffRules v1.15.1\u001b[39m\n",
      "  \u001b[90m[6a86dc24] \u001b[39m\u001b[92m+ FiniteDiff v2.27.0\u001b[39m\n",
      "  \u001b[90m[f6369f11] \u001b[39m\u001b[92m+ ForwardDiff v0.10.38\u001b[39m\n",
      "  \u001b[90m[86223c79] \u001b[39m\u001b[92m+ Graphs v1.12.0\u001b[39m\n",
      "  \u001b[90m[d25df0c9] \u001b[39m\u001b[92m+ Inflate v0.1.5\u001b[39m\n",
      "  \u001b[90m[18e54dd8] \u001b[39m\u001b[92m+ IntegerMathUtils v0.1.2\u001b[39m\n",
      "  \u001b[90m[c8e1da08] \u001b[39m\u001b[92m+ IterTools v1.10.0\u001b[39m\n",
      "  \u001b[90m[d3d80556] \u001b[39m\u001b[92m+ LineSearches v7.3.0\u001b[39m\n",
      "  \u001b[90m[d41bc354] \u001b[39m\u001b[92m+ NLSolversBase v7.8.3\u001b[39m\n",
      "  \u001b[90m[76087f3c] \u001b[39m\u001b[92m+ NLopt v1.1.3\u001b[39m\n",
      "  \u001b[90m[429524aa] \u001b[39m\u001b[92m+ Optim v1.11.0\u001b[39m\n",
      "  \u001b[90m[d96e819e] \u001b[39m\u001b[92m+ Parameters v0.12.3\u001b[39m\n",
      "  \u001b[90m[f27b6e38] \u001b[39m\u001b[92m+ Polynomials v4.0.19\u001b[39m\n",
      "  \u001b[90m[85a6dd25] \u001b[39m\u001b[92m+ PositiveFactorizations v0.2.4\u001b[39m\n",
      "  \u001b[90m[27ebfcd6] \u001b[39m\u001b[92m+ Primes v0.5.6\u001b[39m\n",
      "  \u001b[90m[fcd29c91] \u001b[39m\u001b[92m+ QuantEcon v0.16.6\u001b[39m\n",
      "  \u001b[90m[efcf1570] \u001b[39m\u001b[92m+ Setfield v1.1.2\u001b[39m\n",
      "  \u001b[90m[699a6c99] \u001b[39m\u001b[92m+ SimpleTraits v0.9.4\u001b[39m\n",
      "  \u001b[90m[3a884ed6] \u001b[39m\u001b[92m+ UnPack v1.0.2\u001b[39m\n",
      "  \u001b[90m[079eb43e] \u001b[39m\u001b[92m+ NLopt_jll v2.10.0+0\u001b[39m\n",
      "  \u001b[90m[9fa8497b] \u001b[39m\u001b[92m+ Future v1.11.0\u001b[39m\n",
      "\u001b[36m\u001b[1m        Info\u001b[22m\u001b[39m Packages marked with \u001b[33m⌅\u001b[39m have new versions available but compatibility constraints restrict them from upgrading. To see why use `status --outdated -m`\n",
      "\u001b[92m\u001b[1mPrecompiling\u001b[22m\u001b[39m project...\n",
      "    472.3 ms\u001b[32m  ✓ \u001b[39m\u001b[90mParameters\u001b[39m\n",
      "    542.8 ms\u001b[32m  ✓ \u001b[39m\u001b[90mCommonSubexpressions\u001b[39m\n",
      "    573.8 ms\u001b[32m  ✓ \u001b[39m\u001b[90mArrayInterface\u001b[39m\n",
      "    603.6 ms\u001b[32m  ✓ \u001b[39m\u001b[90mUnitful → ConstructionBaseUnitfulExt\u001b[39m\n",
      "    478.4 ms\u001b[32m  ✓ \u001b[39m\u001b[90mSimpleTraits\u001b[39m\n",
      "    319.0 ms\u001b[32m  ✓ \u001b[39m\u001b[90mDistances → DistancesChainRulesCoreExt\u001b[39m\n",
      "    350.9 ms\u001b[32m  ✓ \u001b[39m\u001b[90mNLopt_jll\u001b[39m\n",
      "    934.7 ms\u001b[32m  ✓ \u001b[39m\u001b[90mSetfield\u001b[39m\n",
      "    532.4 ms\u001b[32m  ✓ \u001b[39m\u001b[90mWidgets\u001b[39m\n",
      "    422.4 ms\u001b[32m  ✓ \u001b[39m\u001b[90mDiffRules\u001b[39m\n",
      "    498.0 ms\u001b[32m  ✓ \u001b[39m\u001b[90mStaticArrays → StaticArraysStatisticsExt\u001b[39m\n",
      "    556.5 ms\u001b[32m  ✓ \u001b[39m\u001b[90mConstructionBase → ConstructionBaseStaticArraysExt\u001b[39m\n",
      "    401.3 ms\u001b[32m  ✓ \u001b[39m\u001b[90mArrayInterface → ArrayInterfaceChainRulesCoreExt\u001b[39m\n",
      "    332.4 ms\u001b[32m  ✓ \u001b[39m\u001b[90mArrayInterface → ArrayInterfaceStaticArraysCoreExt\u001b[39m\n",
      "    695.5 ms\u001b[32m  ✓ \u001b[39m\u001b[90mArrayInterface → ArrayInterfaceSparseArraysExt\u001b[39m\n",
      "    928.7 ms\u001b[32m  ✓ \u001b[39m\u001b[90mArnoldiMethod\u001b[39m\n",
      "   1260.3 ms\u001b[32m  ✓ \u001b[39m\u001b[90mNLopt\u001b[39m\n",
      "   1242.0 ms\u001b[32m  ✓ \u001b[39m\u001b[90mKernelDensity\u001b[39m\n",
      "    455.7 ms\u001b[32m  ✓ \u001b[39m\u001b[90mFiniteDiff\u001b[39m\n",
      "    577.7 ms\u001b[32m  ✓ \u001b[39m\u001b[90mFiniteDiff → FiniteDiffSparseArraysExt\u001b[39m\n",
      "   2024.7 ms\u001b[32m  ✓ \u001b[39m\u001b[90mNearestNeighbors\u001b[39m\n",
      "    478.3 ms\u001b[32m  ✓ \u001b[39m\u001b[90mFiniteDiff → FiniteDiffStaticArraysExt\u001b[39m\n",
      "   3029.3 ms\u001b[32m  ✓ \u001b[39m\u001b[90mForwardDiff\u001b[39m\n",
      "   1319.1 ms\u001b[32m  ✓ \u001b[39m\u001b[90mClustering\u001b[39m\n",
      "    928.8 ms\u001b[32m  ✓ \u001b[39m\u001b[90mForwardDiff → ForwardDiffStaticArraysExt\u001b[39m\n",
      "   1136.6 ms\u001b[32m  ✓ \u001b[39m\u001b[90mNLSolversBase\u001b[39m\n",
      "   3158.9 ms\u001b[32m  ✓ \u001b[39m\u001b[90mGraphs\u001b[39m\n",
      "   1347.0 ms\u001b[32m  ✓ \u001b[39m\u001b[90mLineSearches\u001b[39m\n",
      "   2411.0 ms\u001b[32m  ✓ \u001b[39m\u001b[90mOptim\u001b[39m\n",
      "   4587.2 ms\u001b[32m  ✓ \u001b[39mStatsPlots\n",
      "  11116.3 ms\u001b[32m  ✓ \u001b[39m\u001b[90mPolynomials\u001b[39m\n",
      "    952.6 ms\u001b[32m  ✓ \u001b[39m\u001b[90mPolynomials → PolynomialsChainRulesCoreExt\u001b[39m\n",
      "    989.6 ms\u001b[32m  ✓ \u001b[39m\u001b[90mPolynomials → PolynomialsFFTWExt\u001b[39m\n",
      "   1726.6 ms\u001b[32m  ✓ \u001b[39m\u001b[90mDSP\u001b[39m\n",
      "   3086.8 ms\u001b[32m  ✓ \u001b[39mQuantEcon\n",
      "  35 dependencies successfully precompiled in 19 seconds. 265 already precompiled.\n"
     ]
    }
   ],
   "source": [
    "import Pkg; Pkg.add(\"QuantEcon\")"
   ]
  },
  {
   "cell_type": "code",
   "execution_count": 3,
   "id": "db510dee",
   "metadata": {
    "hide-output": false
   },
   "outputs": [],
   "source": [
    "using LinearAlgebra, Statistics\n",
    "using Distributions, Plots, Printf, QuantEcon, Random"
   ]
  },
  {
   "cell_type": "markdown",
   "id": "edc11e99",
   "metadata": {},
   "source": [
    "## Definitions\n",
    "\n",
    "The following concepts are fundamental.\n",
    "\n",
    "\n",
    "<a id='finite-dp-stoch-mat'></a>"
   ]
  },
  {
   "cell_type": "markdown",
   "id": "624a60c4",
   "metadata": {},
   "source": [
    "### Stochastic Matrices\n",
    "\n",
    "\n",
    "<a id='index-2'></a>\n",
    "A **stochastic matrix** (or **Markov matrix**)  is an $ n \\times n $ square matrix $ P $\n",
    "such that\n",
    "\n",
    "1. each element of $ P $ is nonnegative, and  \n",
    "1. each row of $ P $ sums to one  \n",
    "\n",
    "\n",
    "Each row of $ P $ can be regarded as a probability mass function over $ n $ possible outcomes.\n",
    "\n",
    "It is too not difficult to check <sup><a href=#pm id=pm-link>[1]</a></sup> that if $ P $ is a stochastic matrix, then so is the $ k $-th power $ P^k $ for all $ k \\in \\mathbb N $."
   ]
  },
  {
   "cell_type": "markdown",
   "id": "8c22c5d1",
   "metadata": {},
   "source": [
    "### Markov Chains\n",
    "\n",
    "\n",
    "<a id='index-4'></a>\n",
    "There is a close connection between stochastic matrices and Markov chains.\n",
    "\n",
    "To begin, let $ S $ be a finite set with $ n $ elements $ \\{x_1, \\ldots, x_n\\} $.\n",
    "\n",
    "The set $ S $ is called the **state space** and $ x_1, \\ldots, x_n $ are the **state values**.\n",
    "\n",
    "A **Markov chain** $ \\{X_t\\} $ on $ S $ is a sequence of random variables on $ S $ that have the **Markov property**.\n",
    "\n",
    "This means that, for any date $ t $ and any state $ y \\in S $,\n",
    "\n",
    "\n",
    "<a id='equation-fin-markov-mp'></a>\n",
    "$$\n",
    "\\mathbb P \\{ X_{t+1} = y  \\,|\\, X_t \\}\n",
    "= \\mathbb P \\{ X_{t+1}  = y \\,|\\, X_t, X_{t-1}, \\ldots \\} \\tag{23.1}\n",
    "$$\n",
    "\n",
    "In other words, knowing the current state is enough to know probabilities for future states.\n",
    "\n",
    "In particular, the dynamics of a Markov chain are fully determined by the set of values\n",
    "\n",
    "\n",
    "<a id='equation-mpp'></a>\n",
    "$$\n",
    "P(x, y) := \\mathbb P \\{ X_{t+1} = y \\,|\\, X_t = x \\}\n",
    "\\qquad (x, y \\in S) \\tag{23.2}\n",
    "$$\n",
    "\n",
    "By construction,\n",
    "\n",
    "- $ P(x, y) $ is the probability of going from $ x $ to $ y $ in one unit of time (one step)  \n",
    "- $ P(x, \\cdot) $ is the conditional distribution of $ X_{t+1} $ given $ X_t = x $  \n",
    "\n",
    "\n",
    "We can view $ P $ as a stochastic matrix where\n",
    "\n",
    "$$\n",
    "P_{ij} = P(x_i, x_j)\n",
    "\\qquad 1 \\leq i, j \\leq n\n",
    "$$\n",
    "\n",
    "Going the other way, if we take a stochastic matrix $ P $, we can generate a Markov\n",
    "chain $ \\{X_t\\} $ as follows:\n",
    "\n",
    "- draw $ X_0 $ from some specified distribution  \n",
    "- for each $ t = 0, 1, \\ldots $, draw $ X_{t+1} $ from $ P(X_t,\\cdot) $  \n",
    "\n",
    "\n",
    "By construction, the resulting process satisfies [(23.2)](#equation-mpp).\n",
    "\n",
    "\n",
    "<a id='mc-eg1'></a>"
   ]
  },
  {
   "cell_type": "markdown",
   "id": "971b5d2c",
   "metadata": {},
   "source": [
    "### Example 1\n",
    "\n",
    "Consider a worker who, at any given time $ t $, is either unemployed (state 1) or employed (state 2).\n",
    "\n",
    "Suppose that, over a one month period,\n",
    "\n",
    "1. An unemployed worker finds a job with probability $ \\alpha \\in (0, 1) $.  \n",
    "1. An employed worker loses her job and becomes unemployed with probability $ \\beta \\in (0, 1) $.  \n",
    "\n",
    "\n",
    "In terms of a Markov model, we have\n",
    "\n",
    "- $ S = \\{ 1, 2\\} $  \n",
    "- $ P(1, 2) = \\alpha $ and $ P(2, 1) = \\beta $  \n",
    "\n",
    "\n",
    "We can write out the transition probabilities in matrix form as\n",
    "\n",
    "$$\n",
    "P\n",
    "= \\left(\n",
    "\\begin{array}{cc}\n",
    "    1 - \\alpha & \\alpha \\\\\n",
    "    \\beta & 1 - \\beta\n",
    "\\end{array}\n",
    "  \\right)\n",
    "$$\n",
    "\n",
    "Once we have the values $ \\alpha $ and $ \\beta $, we can address a range of questions, such as\n",
    "\n",
    "- What is the average duration of unemployment?  \n",
    "- Over the long-run, what fraction of time does a worker find herself unemployed?  \n",
    "- Conditional on employment, what is the probability of becoming unemployed at least once over the next 12 months?  \n",
    "\n",
    "\n",
    "We’ll cover such applications below.\n",
    "\n",
    "\n",
    "<a id='mc-eg2'></a>"
   ]
  },
  {
   "cell_type": "markdown",
   "id": "73cef367",
   "metadata": {},
   "source": [
    "### Example 2\n",
    "\n",
    "Using  US unemployment data, Hamilton [[Ham05](https://julia.quantecon.org/../zreferences.html#id84)] estimated the stochastic matrix\n",
    "\n",
    "$$\n",
    "P =\n",
    "\\left(\n",
    "  \\begin{array}{ccc}\n",
    "     0.971 & 0.029 & 0 \\\\\n",
    "     0.145 & 0.778 & 0.077 \\\\\n",
    "     0 & 0.508 & 0.492\n",
    "  \\end{array}\n",
    "\\right)\n",
    "$$\n",
    "\n",
    "where\n",
    "\n",
    "- the frequency is monthly  \n",
    "- the first state represents “normal growth”  \n",
    "- the second state represents “mild recession”  \n",
    "- the third state represents “severe recession”  \n",
    "\n",
    "\n",
    "For example, the matrix tells us that when the state is normal growth, the state will again be normal growth next month with probability 0.97.\n",
    "\n",
    "In general, large values on the main diagonal indicate persistence in the process $ \\{ X_t \\} $.\n",
    "\n",
    "This Markov process can also be represented as a directed graph, with edges labeled by transition probabilities\n",
    "\n",
    "![https://julia.quantecon.org/_static/figures/hamilton_graph.png](https://julia.quantecon.org/_static/figures/hamilton_graph.png)\n",
    "\n",
    "  \n",
    "Here “ng” is normal growth, “mr” is mild recession, etc."
   ]
  },
  {
   "cell_type": "markdown",
   "id": "a673d130",
   "metadata": {},
   "source": [
    "## Simulation\n",
    "\n",
    "\n",
    "<a id='index-5'></a>\n",
    "One natural way to answer questions about Markov chains is to simulate them.\n",
    "\n",
    "(To approximate the probability of event $ E $, we can simulate many times and count the fraction of times that $ E $ occurs)\n",
    "\n",
    "Nice functionality for simulating Markov chains exists in [QuantEcon.jl](http://quantecon.org/quantecon-jl).\n",
    "\n",
    "- Efficient, bundled with lots of other useful routines for handling Markov chains.  \n",
    "\n",
    "\n",
    "However, it’s also a good exercise to roll our own routines — let’s do that first and then come back to the methods in [QuantEcon.jl](http://quantecon.org/quantecon-jl).\n",
    "\n",
    "In these exercises we’ll take the state space to be $ S = 1,\\ldots, n $."
   ]
  },
  {
   "cell_type": "markdown",
   "id": "29203426",
   "metadata": {},
   "source": [
    "### Rolling our own\n",
    "\n",
    "To simulate a Markov chain, we need its stochastic matrix $ P $ and either an initial state or a probability distribution $ \\psi $ for initial state to be drawn from.\n",
    "\n",
    "The Markov chain is then constructed as discussed above.  To repeat:\n",
    "\n",
    "1. At time $ t=0 $, the $ X_0 $ is set to some fixed state or chosen from $ \\psi $.  \n",
    "1. At each subsequent time $ t $, the new state $ X_{t+1} $ is drawn from $ P(X_t, \\cdot) $.  \n",
    "\n",
    "\n",
    "In order to implement this simulation procedure, we need a method for generating draws from a discrete distributions.\n",
    "\n",
    "For this task we’ll use a Categorical random variable (i.e. a discrete random variable with assigned probabilities)"
   ]
  },
  {
   "cell_type": "code",
   "execution_count": 8,
   "id": "53d3b229",
   "metadata": {
    "hide-output": false
   },
   "outputs": [
    {
     "name": "stdout",
     "output_type": "stream",
     "text": [
      "rand(d, 5) = [2, 1, 3, 3, 1]\n",
      "supertype(typeof(d)) = Distribution{Univariate, Discrete}\n",
      "pdf(d, 1) = 0.5\n",
      "support(d) = Base.OneTo(3)\n",
      "pdf.(d, support(d)) = [0.5, 0.3, 0.2]\n"
     ]
    }
   ],
   "source": [
    "d = Categorical([0.5, 0.3, 0.2]) # 3 discrete states\n",
    "@show rand(d, 5)\n",
    "@show supertype(typeof(d))\n",
    "@show pdf(d, 1) # the probability to be in state 1\n",
    "@show support(d)\n",
    "@show pdf.(d, support(d)); # broadcast the pdf over the whole support"
   ]
  },
  {
   "cell_type": "markdown",
   "id": "451cebb9",
   "metadata": {},
   "source": [
    "We’ll write our code as a function that takes the following three arguments\n",
    "\n",
    "- A stochastic matrix `P`  \n",
    "- An initial state `init`  \n",
    "- A positive integer `sample_size` representing the length of the time series the function should return  "
   ]
  },
  {
   "cell_type": "code",
   "execution_count": 9,
   "id": "f844d08d",
   "metadata": {
    "hide-output": false
   },
   "outputs": [
    {
     "data": {
      "text/plain": [
       "mc_sample_path (generic function with 1 method)"
      ]
     },
     "execution_count": 9,
     "metadata": {},
     "output_type": "execute_result"
    }
   ],
   "source": [
    "function mc_sample_path(P; init = 1, sample_size = 1000)\n",
    "    @assert size(P)[1] == size(P)[2] # square required\n",
    "    N = size(P)[1] # should be square\n",
    "\n",
    "    # create vector of discrete RVs for each row\n",
    "    dists = [Categorical(P[i, :]) for i in 1:N]\n",
    "\n",
    "    # setup the simulation\n",
    "    X = fill(0, sample_size) # allocate memory, or zeros(Int64, sample_size)\n",
    "    X[1] = init # set the initial state\n",
    "\n",
    "    for t in 2:sample_size\n",
    "        dist = dists[X[t - 1]] # get discrete RV from last state's transition distribution\n",
    "        X[t] = rand(dist) # draw new value\n",
    "    end\n",
    "    return X\n",
    "end"
   ]
  },
  {
   "cell_type": "markdown",
   "id": "26104888",
   "metadata": {},
   "source": [
    "Let’s see how it works using the small matrix\n",
    "\n",
    "\n",
    "<a id='equation-fm-smat'></a>\n",
    "$$\n",
    "P :=\n",
    "\\left(\n",
    "  \\begin{array}{cc}\n",
    "     0.4 & 0.6  \\\\\n",
    "     0.2 & 0.8\n",
    "  \\end{array}\n",
    "\\right) \\tag{23.3}\n",
    "$$\n",
    "\n",
    "As we’ll see later, for a long series drawn from `P`, the fraction of the sample that takes value 1 will be about 0.25.\n",
    "\n",
    "If you run the following code you should get roughly that answer"
   ]
  },
  {
   "cell_type": "code",
   "execution_count": 10,
   "id": "8c0d57e4",
   "metadata": {
    "hide-output": false
   },
   "outputs": [
    {
     "data": {
      "text/plain": [
       "0.2514"
      ]
     },
     "execution_count": 10,
     "metadata": {},
     "output_type": "execute_result"
    }
   ],
   "source": [
    "P = [0.4 0.6; 0.2 0.8]\n",
    "X = mc_sample_path(P, sample_size = 100_000); # note 100_000 = 100000\n",
    "mu_1 = count(X .== 1) / length(X) # .== broadcasts test for equality. Could use mean(X .== 1)"
   ]
  },
  {
   "cell_type": "markdown",
   "id": "bc87cffa",
   "metadata": {},
   "source": [
    "### Using QuantEcon’s Routines\n",
    "\n",
    "As discussed above, [QuantEcon.jl](http://quantecon.org/quantecon-jl) has routines for handling Markov chains, including simulation.\n",
    "\n",
    "Here’s an illustration using the same P as the preceding example"
   ]
  },
  {
   "cell_type": "code",
   "execution_count": 11,
   "id": "3e9a13ee",
   "metadata": {
    "hide-output": false
   },
   "outputs": [
    {
     "data": {
      "text/plain": [
       "0.24908"
      ]
     },
     "execution_count": 11,
     "metadata": {},
     "output_type": "execute_result"
    }
   ],
   "source": [
    "P = [0.4 0.6; 0.2 0.8];\n",
    "mc = MarkovChain(P)\n",
    "X = simulate(mc, 100_000);\n",
    "mu_2 = count(X .== 1) / length(X) # or mean(x -> x == 1, X)"
   ]
  },
  {
   "cell_type": "markdown",
   "id": "033032c1",
   "metadata": {},
   "source": [
    "#### Adding state values and initial conditions\n",
    "\n",
    "If we wish to, we can provide a specification of state values to `MarkovChain`.\n",
    "\n",
    "These state values can be integers, floats, or even strings.\n",
    "\n",
    "The following code illustrates"
   ]
  },
  {
   "cell_type": "code",
   "execution_count": 12,
   "id": "e55c399c",
   "metadata": {
    "hide-output": false
   },
   "outputs": [
    {
     "data": {
      "text/plain": [
       "4-element Vector{String}:\n",
       " \"unemployed\"\n",
       " \"unemployed\"\n",
       " \"employed\"\n",
       " \"employed\""
      ]
     },
     "execution_count": 12,
     "metadata": {},
     "output_type": "execute_result"
    }
   ],
   "source": [
    "mc = MarkovChain(P, [\"unemployed\", \"employed\"])\n",
    "simulate(mc, 4, init = 1) # start at state 1"
   ]
  },
  {
   "cell_type": "code",
   "execution_count": 13,
   "id": "97a41aab",
   "metadata": {
    "hide-output": false
   },
   "outputs": [
    {
     "data": {
      "text/plain": [
       "4-element Vector{String}:\n",
       " \"employed\"\n",
       " \"employed\"\n",
       " \"employed\"\n",
       " \"employed\""
      ]
     },
     "execution_count": 13,
     "metadata": {},
     "output_type": "execute_result"
    }
   ],
   "source": [
    "simulate(mc, 4, init = 2) # start at state 2"
   ]
  },
  {
   "cell_type": "code",
   "execution_count": 14,
   "id": "993c98df",
   "metadata": {
    "hide-output": false
   },
   "outputs": [
    {
     "data": {
      "text/plain": [
       "4-element Vector{String}:\n",
       " \"unemployed\"\n",
       " \"employed\"\n",
       " \"employed\"\n",
       " \"employed\""
      ]
     },
     "execution_count": 14,
     "metadata": {},
     "output_type": "execute_result"
    }
   ],
   "source": [
    "simulate(mc, 4) # start with randomly chosen initial condition"
   ]
  },
  {
   "cell_type": "code",
   "execution_count": 15,
   "id": "bdbea5f6",
   "metadata": {
    "hide-output": false
   },
   "outputs": [
    {
     "data": {
      "text/plain": [
       "4-element Vector{Int64}:\n",
       " 1\n",
       " 2\n",
       " 1\n",
       " 2"
      ]
     },
     "execution_count": 15,
     "metadata": {},
     "output_type": "execute_result"
    }
   ],
   "source": [
    "simulate_indices(mc, 4)"
   ]
  },
  {
   "cell_type": "markdown",
   "id": "829c41bb",
   "metadata": {},
   "source": [
    "\n",
    "<a id='mc-md'></a>"
   ]
  },
  {
   "cell_type": "markdown",
   "id": "2d1255d0",
   "metadata": {},
   "source": [
    "## Marginal Distributions\n",
    "\n",
    "\n",
    "<a id='index-7'></a>\n",
    "Suppose that\n",
    "\n",
    "1. $ \\{X_t\\} $ is a Markov chain with stochastic matrix $ P $  \n",
    "1. the distribution of $ X_t $ is known to be $ \\psi_t $  \n",
    "\n",
    "\n",
    "What then is the distribution of $ X_{t+1} $, or, more generally, of $ X_{t+m} $?"
   ]
  },
  {
   "cell_type": "markdown",
   "id": "fe490f21",
   "metadata": {},
   "source": [
    "### Solution\n",
    "\n",
    "Let $ \\psi_t $ be the distribution of $ X_t $ for $ t = 0, 1, 2, \\ldots $.\n",
    "\n",
    "Our first aim is to find $ \\psi_{t + 1} $ given $ \\psi_t $ and $ P $.\n",
    "\n",
    "To begin, pick any $ y  \\in S $.\n",
    "\n",
    "Using the [law of total probability](https://en.wikipedia.org/wiki/Law_of_total_probability), we can decompose the probability that $ X_{t+1} = y $ as follows:\n",
    "\n",
    "$$\n",
    "\\mathbb P \\{X_{t+1} = y \\}\n",
    "   = \\sum_{x \\in S} \\mathbb P \\{ X_{t+1} = y \\, | \\, X_t = x \\}\n",
    "               \\cdot \\mathbb P \\{ X_t = x \\}\n",
    "$$\n",
    "\n",
    "In words, to get the probability of being at $ y $ tomorrow, we account for\n",
    "all  ways this can happen and sum their probabilities.\n",
    "\n",
    "Rewriting this statement in terms of  marginal and conditional probabilities gives.\n",
    "\n",
    "\n",
    "<a id='mc-fdd'></a>\n",
    "$$\n",
    "\\psi_{t+1}(y) = \\sum_{x \\in S} P(x,y) \\psi_t(x)\n",
    "$$\n",
    "\n",
    "There are $ n $ such equations, one for each $ y \\in S $.\n",
    "\n",
    "If we think of $ \\psi_{t+1} $ and $ \\psi_t $ as *row vectors* (as is traditional in this literature), these $ n $ equations are summarized by the matrix expression.\n",
    "\n",
    "\n",
    "<a id='mc-fddv'></a>\n",
    "\n",
    "<a id='equation-fin-mc-fr'></a>\n",
    "$$\n",
    "\\psi_{t+1} = \\psi_t P \\tag{23.4}\n",
    "$$\n",
    "\n",
    "In other words, to move the distribution forward one unit of time, we postmultiply by $ P $.\n",
    "\n",
    "By repeating this $ m $ times we move forward $ m $ steps into the future.\n",
    "\n",
    "Hence, iterating on [(23.5)](#equation-fin-mc-fr), the expression $ \\psi_{t+m} = \\psi_t P^m $ is also valid — here $ P^m $ is the $ m $-th power of $ P $.\n",
    "\n",
    "\n",
    "<a id='mc-exfmar'></a>\n",
    "As a special case, we see that if $ \\psi_0 $ is the initial distribution from\n",
    "which $ X_0 $ is drawn, then $ \\psi_0 P^m $ is the distribution of\n",
    "$ X_m $.\n",
    "\n",
    "This is very important, so let’s repeat it\n",
    "\n",
    "\n",
    "<a id='equation-mdfmc'></a>\n",
    "$$\n",
    "X_0 \\sim \\psi_0 \\quad \\implies \\quad X_m \\sim \\psi_0 P^m \\tag{23.5}\n",
    "$$\n",
    "\n",
    "and, more generally,\n",
    "\n",
    "\n",
    "<a id='equation-mdfmc2'></a>\n",
    "$$\n",
    "X_t \\sim \\psi_t \\quad \\implies \\quad X_{t+m} \\sim \\psi_t P^m \\tag{23.6}\n",
    "$$\n",
    "\n",
    "\n",
    "<a id='finite-mc-mstp'></a>"
   ]
  },
  {
   "cell_type": "markdown",
   "id": "40f3a17c",
   "metadata": {},
   "source": [
    "### Multiple Step Transition Probabilities\n",
    "\n",
    "We know that the probability of transitioning from $ x $ to $ y $ in\n",
    "one step is $ P(x,y) $.\n",
    "\n",
    "It turns out that the probability of transitioning from $ x $ to $ y $ in\n",
    "$ m $ steps is $ P^m(x,y) $, the $ (x,y) $-th element of the\n",
    "$ m $-th power of $ P $.\n",
    "\n",
    "To see why, consider again [(23.7)](#equation-mdfmc2), but now with $ \\psi_t $ putting all probability on state $ x $.\n",
    "\n",
    "- 1 in the $ x $-th position and zero elsewhere.  \n",
    "\n",
    "\n",
    "Inserting this into [(23.7)](#equation-mdfmc2), we see that, conditional on $ X_t = x $, the distribution of $ X_{t+m} $ is the $ x $-th row of $ P^m $.\n",
    "\n",
    "In particular\n",
    "\n",
    "$$\n",
    "\\mathbb P \\{X_{t+m} = y \\} = P^m(x, y) = (x, y) \\text{-th element of } P^m\n",
    "$$"
   ]
  },
  {
   "cell_type": "markdown",
   "id": "679df370",
   "metadata": {},
   "source": [
    "### Example: Probability of Recession\n",
    "\n",
    "\n",
    "<a id='index-8'></a>\n",
    "Recall the stochastic matrix $ P $ for recession and growth [considered above](#mc-eg2).\n",
    "\n",
    "Suppose that the current state is unknown — perhaps statistics are available only  at the *end* of the current month.\n",
    "\n",
    "We estimate the probability that the economy is in state $ x $ to be $ \\psi(x) $.\n",
    "\n",
    "The probability of being in recession (either mild or severe) in 6 months time is given by the inner product\n",
    "\n",
    "$$\n",
    "\\psi P^6\n",
    "\\cdot\n",
    "\\left(\n",
    "  \\begin{array}{c}\n",
    "     0 \\\\\n",
    "     1 \\\\\n",
    "     1\n",
    "  \\end{array}\n",
    "\\right)\n",
    "$$\n",
    "\n",
    "\n",
    "<a id='mc-eg1-1'></a>"
   ]
  },
  {
   "cell_type": "markdown",
   "id": "90c078ab",
   "metadata": {},
   "source": [
    "### Example 2: Cross-Sectional Distributions\n",
    "\n",
    "\n",
    "<a id='index-9'></a>\n",
    "The marginal distributions we have been studying can be viewed either as\n",
    "probabilities or as cross-sectional frequencies in large samples.\n",
    "\n",
    "To illustrate, recall our model of employment / unemployment dynamics for a given worker [discussed above](#mc-eg1).\n",
    "\n",
    "Consider a large (i.e., tending to infinite) population of workers, each of whose lifetime experiences are described by the specified dynamics, independently of one another.\n",
    "\n",
    "Let $ \\psi $ be the current *cross-sectional* distribution over $ \\{ 1, 2 \\} $.\n",
    "\n",
    "- For example, $ \\psi(1) $ is the unemployment rate.  \n",
    "\n",
    "\n",
    "The cross-sectional distribution records the fractions of workers employed and unemployed at a given moment.\n",
    "\n",
    "The same distribution also describes the fractions of  a particular worker’s career spent being employed and unemployed, respectively."
   ]
  },
  {
   "cell_type": "markdown",
   "id": "54817533",
   "metadata": {},
   "source": [
    "## Irreducibility and Aperiodicity\n",
    "\n",
    "\n",
    "<a id='index-11'></a>\n",
    "Irreducibility and aperiodicity are central concepts of modern Markov chain theory.\n",
    "\n",
    "Let’s see what they’re about."
   ]
  },
  {
   "cell_type": "markdown",
   "id": "d26d85ef",
   "metadata": {},
   "source": [
    "### Irreducibility\n",
    "\n",
    "Let $ P $ be a fixed stochastic matrix.\n",
    "\n",
    "Two states $ x $ and $ y $ are said to **communicate** with each other if\n",
    "there exist positive integers $ j $ and $ k $ such that\n",
    "\n",
    "$$\n",
    "P^j(x, y) > 0\n",
    "\\quad \\text{and} \\quad\n",
    "P^k(y, x) > 0\n",
    "$$\n",
    "\n",
    "In view of our discussion [above](#finite-mc-mstp), this means precisely\n",
    "that\n",
    "\n",
    "- state $ x $ can be reached eventually from state $ y $, and  \n",
    "- state $ y $ can be reached eventually from state $ x $  \n",
    "\n",
    "\n",
    "The stochastic matrix $ P $ is called **irreducible** if all states\n",
    "communicate; that is, if $ x $ and $ y $ communicate for all\n",
    "$ (x, y) $ in $ S \\times S $.\n",
    "\n",
    "For example, consider the following transition probabilities for wealth of a fictitious set of\n",
    "households\n",
    "\n",
    "![https://julia.quantecon.org/_static/figures/mc_irreducibility1.png](https://julia.quantecon.org/_static/figures/mc_irreducibility1.png)\n",
    "\n",
    "  \n",
    "We can translate this into a stochastic matrix, putting zeros where\n",
    "there’s no edge between nodes\n",
    "\n",
    "$$\n",
    "P :=\n",
    "\\left(\n",
    "  \\begin{array}{ccc}\n",
    "     0.9 & 0.1 & 0 \\\\\n",
    "     0.4 & 0.4 & 0.2 \\\\\n",
    "     0.1 & 0.1 & 0.8\n",
    "  \\end{array}\n",
    "\\right)\n",
    "$$\n",
    "\n",
    "It’s clear from the graph that this stochastic matrix is irreducible: we can\n",
    "reach any state from any other state eventually.\n",
    "\n",
    "We can also test this using [QuantEcon.jl](http://quantecon.org/quantecon-jl)’s MarkovChain class"
   ]
  },
  {
   "cell_type": "code",
   "execution_count": 16,
   "id": "c6861a7f",
   "metadata": {
    "hide-output": false
   },
   "outputs": [
    {
     "data": {
      "text/plain": [
       "true"
      ]
     },
     "execution_count": 16,
     "metadata": {},
     "output_type": "execute_result"
    }
   ],
   "source": [
    "P = [0.9 0.1 0.0; 0.4 0.4 0.2; 0.1 0.1 0.8];\n",
    "mc = MarkovChain(P)\n",
    "is_irreducible(mc)"
   ]
  },
  {
   "cell_type": "markdown",
   "id": "90d0f3e8",
   "metadata": {},
   "source": [
    "Here’s a more pessimistic scenario, where the poor are poor forever\n",
    "\n",
    "![https://julia.quantecon.org/_static/figures/mc_irreducibility2.png](https://julia.quantecon.org/_static/figures/mc_irreducibility2.png)\n",
    "\n",
    "  \n",
    "This stochastic matrix is not irreducible, since, for example, rich is not accessible from poor.\n",
    "\n",
    "Let’s confirm this"
   ]
  },
  {
   "cell_type": "code",
   "execution_count": 17,
   "id": "5357af7c",
   "metadata": {
    "hide-output": false
   },
   "outputs": [
    {
     "data": {
      "text/plain": [
       "false"
      ]
     },
     "execution_count": 17,
     "metadata": {},
     "output_type": "execute_result"
    }
   ],
   "source": [
    "P = [1.0 0.0 0.0; 0.1 0.8 0.1; 0.0 0.2 0.8];\n",
    "mc = MarkovChain(P);\n",
    "is_irreducible(mc)"
   ]
  },
  {
   "cell_type": "markdown",
   "id": "22f9d45a",
   "metadata": {},
   "source": [
    "We can also determine the “communication classes,” or the sets of communicating states (where communication refers to a nonzero probability of moving in each direction)."
   ]
  },
  {
   "cell_type": "code",
   "execution_count": 18,
   "id": "533909a5",
   "metadata": {
    "hide-output": false
   },
   "outputs": [
    {
     "data": {
      "text/plain": [
       "2-element Vector{Vector{Int64}}:\n",
       " [1]\n",
       " [2, 3]"
      ]
     },
     "execution_count": 18,
     "metadata": {},
     "output_type": "execute_result"
    }
   ],
   "source": [
    "communication_classes(mc)"
   ]
  },
  {
   "cell_type": "markdown",
   "id": "47d28a00",
   "metadata": {},
   "source": [
    "It might be clear to you already that irreducibility is going to be important in terms of long run outcomes.\n",
    "\n",
    "For example, poverty is a life sentence in the second graph but not the first.\n",
    "\n",
    "We’ll come back to this a bit later."
   ]
  },
  {
   "cell_type": "markdown",
   "id": "70208095",
   "metadata": {},
   "source": [
    "### Aperiodicity\n",
    "\n",
    "Loosely speaking, a Markov chain is called periodic if it cycles in a predictible way, and aperiodic otherwise.\n",
    "\n",
    "Here’s a trivial example with three states\n",
    "\n",
    "![https://julia.quantecon.org/_static/figures/mc_aperiodicity1.png](https://julia.quantecon.org/_static/figures/mc_aperiodicity1.png)\n",
    "\n",
    "  \n",
    "The chain cycles with period 3:"
   ]
  },
  {
   "cell_type": "code",
   "execution_count": 19,
   "id": "5b7df721",
   "metadata": {
    "hide-output": false
   },
   "outputs": [
    {
     "data": {
      "text/plain": [
       "3"
      ]
     },
     "execution_count": 19,
     "metadata": {},
     "output_type": "execute_result"
    }
   ],
   "source": [
    "P = [0 1 0; 0 0 1; 1 0 0];\n",
    "mc = MarkovChain(P);\n",
    "period(mc)"
   ]
  },
  {
   "cell_type": "markdown",
   "id": "dcedc18b",
   "metadata": {},
   "source": [
    "More formally, the **period** of a state $ x $ is the greatest common divisor\n",
    "of the set of integers\n",
    "\n",
    "$$\n",
    "D(x) := \\{j \\geq 1 : P^j(x, x) > 0\\}\n",
    "$$\n",
    "\n",
    "In the last example, $ D(x) = \\{3, 6, 9, \\ldots\\} $ for every state $ x $, so the period is 3.\n",
    "\n",
    "A stochastic matrix is called **aperiodic** if the period of every state is 1, and **periodic** otherwise.\n",
    "\n",
    "For example, the stochastic matrix associated with the transition probabilities below is periodic because, for example, state $ a $ has period 2\n",
    "\n",
    "![https://julia.quantecon.org/_static/figures/mc_aperiodicity2.png](https://julia.quantecon.org/_static/figures/mc_aperiodicity2.png)\n",
    "\n",
    "  \n",
    "We can confirm that the stochastic matrix is periodic as follows"
   ]
  },
  {
   "cell_type": "code",
   "execution_count": 20,
   "id": "3eb10f62",
   "metadata": {
    "hide-output": false
   },
   "outputs": [
    {
     "data": {
      "text/plain": [
       "2"
      ]
     },
     "execution_count": 20,
     "metadata": {},
     "output_type": "execute_result"
    }
   ],
   "source": [
    "P = zeros(4, 4);\n",
    "P[1, 2] = 1;\n",
    "P[2, 1] = P[2, 3] = 0.5;\n",
    "P[3, 2] = P[3, 4] = 0.5;\n",
    "P[4, 3] = 1;\n",
    "mc = MarkovChain(P);\n",
    "period(mc)"
   ]
  },
  {
   "cell_type": "code",
   "execution_count": 21,
   "id": "d980eaaf",
   "metadata": {
    "hide-output": false
   },
   "outputs": [
    {
     "data": {
      "text/plain": [
       "false"
      ]
     },
     "execution_count": 21,
     "metadata": {},
     "output_type": "execute_result"
    }
   ],
   "source": [
    "is_aperiodic(mc)"
   ]
  },
  {
   "cell_type": "markdown",
   "id": "0c348e6e",
   "metadata": {},
   "source": [
    "## Stationary Distributions\n",
    "\n",
    "\n",
    "<a id='index-13'></a>\n",
    "As seen in [(23.5)](#equation-fin-mc-fr), we can shift probabilities forward one unit of time via postmultiplication by $ P $.\n",
    "\n",
    "Some distributions are invariant under this updating process — for example,"
   ]
  },
  {
   "cell_type": "code",
   "execution_count": 24,
   "id": "1a50be7f",
   "metadata": {
    "hide-output": false
   },
   "outputs": [
    {
     "data": {
      "text/plain": [
       "1×2 adjoint(::Vector{Float64}) with eltype Float64:\n",
       " 0.25  0.75"
      ]
     },
     "execution_count": 24,
     "metadata": {},
     "output_type": "execute_result"
    }
   ],
   "source": [
    "P = [0.4 0.6; 0.2 0.8];\n",
    "psi = [0.25, 0.75];\n",
    "psi' * P"
   ]
  },
  {
   "cell_type": "markdown",
   "id": "78b32e7f",
   "metadata": {},
   "source": [
    "Such distributions are called **stationary**, or **invariant**.\n",
    "\n",
    "\n",
    "<a id='mc-stat-dd'></a>\n",
    "Formally, a distribution $ \\psi^* $ on $ S $ is called **stationary** for $ P $ if $ \\psi^* = \\psi^* P $.\n",
    "\n",
    "From this equality we immediately get $ \\psi^* = \\psi^* P^t $ for all $ t $.\n",
    "\n",
    "This tells us an important fact: If the distribution of $ X_0 $ is a stationary distribution, then $ X_t $ will have this same distribution for all $ t $.\n",
    "\n",
    "Hence stationary distributions have a natural interpretation as stochastic steady states — we’ll discuss this more in just a moment.\n",
    "\n",
    "Mathematically, a stationary distribution is a fixed point of $ P $ when $ P $ is thought of as the map $ \\psi \\mapsto \\psi P $ from (row) vectors to (row) vectors.\n",
    "\n",
    "**Theorem.** Every stochastic matrix $ P $ has at least one stationary distribution.\n",
    "\n",
    "(We are assuming here that the state space $ S $ is finite; if not more assumptions are required)\n",
    "\n",
    "For a proof of this result you can apply [Brouwer’s fixed point theorem](https://en.wikipedia.org/wiki/Brouwer_fixed-point_theorem), or see [EDTC](http://johnstachurski.net/edtc.html), theorem 4.3.5.\n",
    "\n",
    "There may in fact be many stationary distributions corresponding to a given stochastic matrix $ P $.\n",
    "\n",
    "- For example, if $ P $ is the identity matrix, then all distributions are stationary.  \n",
    "\n",
    "\n",
    "Since stationary distributions are long run equilibria, to get uniqueness we require that initial conditions are not infinitely persistent.\n",
    "\n",
    "Infinite persistence of initial conditions occurs if certain regions of the\n",
    "state space cannot be accessed from other regions, which is the opposite of irreducibility.\n",
    "\n",
    "This gives some intuition for the following fundamental theorem.\n",
    "\n",
    "\n",
    "<a id='mc-conv-thm'></a>\n",
    "**Theorem.** If $ P $ is both aperiodic and irreducible, then\n",
    "\n",
    "1. $ P $ has exactly one stationary distribution $ \\psi^* $.  \n",
    "1. For any initial distribution $ \\psi_0 $, we have $ \\| \\psi_0 P^t - \\psi^* \\| \\to 0 $ as $ t \\to \\infty $.  \n",
    "\n",
    "\n",
    "For a proof, see, for example, theorem 5.2 of [[Haggstrom02](https://julia.quantecon.org/../zreferences.html#id52)].\n",
    "\n",
    "(Note that part 1 of the theorem requires only irreducibility, whereas part 2\n",
    "requires both irreducibility and aperiodicity)\n",
    "\n",
    "A stochastic matrix satisfying the conditions of the theorem is sometimes called **uniformly ergodic**.\n",
    "\n",
    "One easy sufficient condition for aperiodicity and irreducibility is that every element of $ P $ is strictly positive\n",
    "\n",
    "- Try to convince yourself of this  "
   ]
  },
  {
   "cell_type": "markdown",
   "id": "6c1dfcc8",
   "metadata": {},
   "source": [
    "### Example\n",
    "\n",
    "Recall our model of employment / unemployment dynamics for a given worker [discussed above](#mc-eg1).\n",
    "\n",
    "Assuming $ \\alpha \\in (0,1) $ and $ \\beta \\in (0,1) $, the uniform ergodicity condition is satisfied.\n",
    "\n",
    "Let $ \\psi^* = (p, 1-p) $ be the stationary distribution, so that $ p $ corresponds to unemployment (state 1).\n",
    "\n",
    "Using $ \\psi^* = \\psi^* P $ and a bit of algebra yields\n",
    "\n",
    "$$\n",
    "p = \\frac{\\beta}{\\alpha + \\beta}\n",
    "$$\n",
    "\n",
    "This is, in some sense, a steady state probability of unemployment — more on interpretation below.\n",
    "\n",
    "Not surprisingly it tends to zero as $ \\beta \\to 0 $, and to one as $ \\alpha \\to 0 $."
   ]
  },
  {
   "cell_type": "markdown",
   "id": "a421f8eb",
   "metadata": {},
   "source": [
    "### Calculating Stationary Distributions\n",
    "\n",
    "\n",
    "<a id='index-14'></a>\n",
    "As discussed above, a given Markov matrix $ P $ can have many stationary distributions.\n",
    "\n",
    "That is, there can be many row vectors $ \\psi $ such that $ \\psi = \\psi P $.\n",
    "\n",
    "In fact if $ P $ has two distinct stationary distributions $ \\psi_1,\n",
    "\\psi_2 $ then it has infinitely many, since in this case, as you can verify,\n",
    "\n",
    "$$\n",
    "\\psi_3 := \\lambda \\psi_1 + (1 - \\lambda) \\psi_2\n",
    "$$\n",
    "\n",
    "is a stationary distribution for $ P $ for any $ \\lambda \\in [0, 1] $.\n",
    "\n",
    "If we restrict attention to the case where only one stationary distribution exists, one option for finding it is to try to solve the linear system $ \\psi (I_n - P) = 0 $ for $ \\psi $, where $ I_n $ is the $ n \\times n $ identity.\n",
    "\n",
    "But the zero vector solves this equation.\n",
    "\n",
    "Hence we need to impose the restriction that the solution must be a probability distribution.\n",
    "\n",
    "A suitable algorithm is implemented in [QuantEcon.jl](http://quantecon.org/quantecon-jl) — the next code block illustrates"
   ]
  },
  {
   "cell_type": "code",
   "execution_count": 25,
   "id": "e9c07aa7",
   "metadata": {
    "hide-output": false
   },
   "outputs": [
    {
     "data": {
      "text/plain": [
       "1-element Vector{Vector{Float64}}:\n",
       " [0.25, 0.7499999999999999]"
      ]
     },
     "execution_count": 25,
     "metadata": {},
     "output_type": "execute_result"
    }
   ],
   "source": [
    "P = [0.4 0.6; 0.2 0.8];\n",
    "mc = MarkovChain(P);\n",
    "stationary_distributions(mc)"
   ]
  },
  {
   "cell_type": "markdown",
   "id": "faba42c1",
   "metadata": {},
   "source": [
    "The stationary distribution is unique."
   ]
  },
  {
   "cell_type": "markdown",
   "id": "1f3de00b",
   "metadata": {},
   "source": [
    "### Convergence to Stationarity\n",
    "\n",
    "\n",
    "<a id='index-15'></a>\n",
    "Part 2 of the Markov chain convergence theorem [stated above](#mc-conv-thm) tells us that the distribution of $ X_t $ converges to the stationary distribution regardless of where we start off.\n",
    "\n",
    "This adds considerable weight to our interpretation of $ \\psi^* $ as a stochastic steady state.\n",
    "\n",
    "The convergence in the theorem is illustrated in the next figure"
   ]
  },
  {
   "cell_type": "code",
   "execution_count": 26,
   "id": "84f74eec",
   "metadata": {
    "hide-output": false
   },
   "outputs": [
    {
     "data": {
      "image/png": "[encoded data removed]",
      "image/svg+xml": [
       "<?xml version=\"1.0\" encoding=\"utf-8\"?>\n",
       "<svg xmlns=\"http://www.w3.org/2000/svg\" xmlns:xlink=\"http://www.w3.org/1999/xlink\" width=\"600\" height=\"400\" viewBox=\"0 0 2400 1600\">\n",
       "<defs>\n",
       "  <clipPath id=\"clip480\">\n",
       "    <rect x=\"0\" y=\"0\" width=\"2400\" height=\"1600\"/>\n",
       "  </clipPath>\n",
       "</defs>\n",
       "<path clip-path=\"url(#clip480)\" d=\"M0 1600 L2400 1600 L2400 8.88178e-14 L0 8.88178e-14  Z\" fill=\"#ffffff\" fill-rule=\"evenodd\" fill-opacity=\"1\"/>\n",
       "<defs>\n",
       "  <clipPath id=\"clip481\">\n",
       "    <rect x=\"480\" y=\"0\" width=\"1681\" height=\"1600\"/>\n",
       "  </clipPath>\n",
       "</defs>\n",
       "<defs>\n",
       "  <clipPath id=\"clip482\">\n",
       "    <rect x=\"156\" y=\"47\" width=\"2197\" height=\"1440\"/>\n",
       "  </clipPath>\n",
       "</defs>\n",
       "<path clip-path=\"url(#clip482)\" d=\"M-1145.16 3049.33 L-1145.16 755.485 L218.754 -866.507 L1582.67 755.485 L1582.67 3049.33 L218.754 4671.32 L-1145.16 3049.33  Z\" fill=\"#ffffff\" fill-rule=\"evenodd\" fill-opacity=\"1\"/>\n",
       "<polyline clip-path=\"url(#clip482)\" style=\"stroke:#000000; stroke-linecap:round; stroke-linejoin:round; stroke-width:2; stroke-opacity:0.5; fill:none\" points=\"683.753,1072.38 1271.31,656.918 1271.31,69.3658 \"/>\n",
       "<polyline clip-path=\"url(#clip482)\" style=\"stroke:#000000; stroke-linecap:round; stroke-linejoin:round; stroke-width:2; stroke-opacity:0.5; fill:none\" points=\"820.145,1168.82 1407.7,753.362 1407.7,165.809 \"/>\n",
       "<polyline clip-path=\"url(#clip482)\" style=\"stroke:#000000; stroke-linecap:round; stroke-linejoin:round; stroke-width:2; stroke-opacity:0.5; fill:none\" points=\"956.536,1265.27 1544.09,849.805 1544.09,262.252 \"/>\n",
       "<polyline clip-path=\"url(#clip482)\" style=\"stroke:#000000; stroke-linecap:round; stroke-linejoin:round; stroke-width:2; stroke-opacity:0.5; fill:none\" points=\"1092.93,1361.71 1680.48,946.248 1680.48,358.696 \"/>\n",
       "<polyline clip-path=\"url(#clip482)\" style=\"stroke:#000000; stroke-linecap:round; stroke-linejoin:round; stroke-width:2; stroke-opacity:0.5; fill:none\" points=\"1229.32,1458.15 1816.87,1042.69 1816.87,455.139 \"/>\n",
       "<polyline clip-path=\"url(#clip482)\" style=\"stroke:#000000; stroke-linecap:round; stroke-linejoin:round; stroke-width:2; stroke-opacity:0.5; fill:none\" points=\"1314.25,1433.96 726.694,1018.5 726.694,430.948 \"/>\n",
       "<polyline clip-path=\"url(#clip482)\" style=\"stroke:#000000; stroke-linecap:round; stroke-linejoin:round; stroke-width:2; stroke-opacity:0.5; fill:none\" points=\"1428.94,1352.86 841.386,937.401 841.386,349.848 \"/>\n",
       "<polyline clip-path=\"url(#clip482)\" style=\"stroke:#000000; stroke-linecap:round; stroke-linejoin:round; stroke-width:2; stroke-opacity:0.5; fill:none\" points=\"1543.63,1271.76 956.079,856.301 956.079,268.748 \"/>\n",
       "<polyline clip-path=\"url(#clip482)\" style=\"stroke:#000000; stroke-linecap:round; stroke-linejoin:round; stroke-width:2; stroke-opacity:0.5; fill:none\" points=\"1658.32,1190.66 1070.77,775.201 1070.77,187.649 \"/>\n",
       "<polyline clip-path=\"url(#clip482)\" style=\"stroke:#000000; stroke-linecap:round; stroke-linejoin:round; stroke-width:2; stroke-opacity:0.5; fill:none\" points=\"1773.02,1109.56 1185.46,694.102 1185.46,106.549 \"/>\n",
       "<polyline clip-path=\"url(#clip482)\" style=\"stroke:#000000; stroke-linecap:round; stroke-linejoin:round; stroke-width:2; stroke-opacity:0.5; fill:none\" points=\"667.125,918.631 1254.68,503.168 1842.23,918.631 \"/>\n",
       "<polyline clip-path=\"url(#clip482)\" style=\"stroke:#000000; stroke-linecap:round; stroke-linejoin:round; stroke-width:2; stroke-opacity:0.5; fill:none\" points=\"667.125,775.653 1254.68,360.191 1842.23,775.653 \"/>\n",
       "<polyline clip-path=\"url(#clip482)\" style=\"stroke:#000000; stroke-linecap:round; stroke-linejoin:round; stroke-width:2; stroke-opacity:0.5; fill:none\" points=\"667.125,632.676 1254.68,217.214 1842.23,632.676 \"/>\n",
       "<polyline clip-path=\"url(#clip482)\" style=\"stroke:#000000; stroke-linecap:round; stroke-linejoin:round; stroke-width:2; stroke-opacity:0.5; fill:none\" points=\"667.125,489.699 1254.68,74.2362 1842.23,489.699 \"/>\n",
       "<polyline clip-path=\"url(#clip480)\" style=\"stroke:#000000; stroke-linecap:round; stroke-linejoin:round; stroke-width:4; stroke-opacity:1; fill:none\" points=\"667.125,1060.62 1254.68,1476.08 \"/>\n",
       "<polyline clip-path=\"url(#clip480)\" style=\"stroke:#000000; stroke-linecap:round; stroke-linejoin:round; stroke-width:4; stroke-opacity:1; fill:none\" points=\"683.753,1072.38 690.804,1067.4 \"/>\n",
       "<polyline clip-path=\"url(#clip480)\" style=\"stroke:#000000; stroke-linecap:round; stroke-linejoin:round; stroke-width:4; stroke-opacity:1; fill:none\" points=\"820.145,1168.82 827.195,1163.84 \"/>\n",
       "<polyline clip-path=\"url(#clip480)\" style=\"stroke:#000000; stroke-linecap:round; stroke-linejoin:round; stroke-width:4; stroke-opacity:1; fill:none\" points=\"956.536,1265.27 963.587,1260.28 \"/>\n",
       "<polyline clip-path=\"url(#clip480)\" style=\"stroke:#000000; stroke-linecap:round; stroke-linejoin:round; stroke-width:4; stroke-opacity:1; fill:none\" points=\"1092.93,1361.71 1099.98,1356.72 \"/>\n",
       "<polyline clip-path=\"url(#clip480)\" style=\"stroke:#000000; stroke-linecap:round; stroke-linejoin:round; stroke-width:4; stroke-opacity:1; fill:none\" points=\"1229.32,1458.15 1236.37,1453.17 \"/>\n",
       "<path clip-path=\"url(#clip480)\" d=\"M604.535 1076.71 Q600.924 1076.71 599.095 1080.28 Q597.29 1083.82 597.29 1090.95 Q597.29 1098.06 599.095 1101.62 Q600.924 1105.16 604.535 1105.16 Q608.169 1105.16 609.975 1101.62 Q611.804 1098.06 611.804 1090.95 Q611.804 1083.82 609.975 1080.28 Q608.169 1076.71 604.535 1076.71 M604.535 1073.01 Q610.345 1073.01 613.401 1077.62 Q616.48 1082.2 616.48 1090.95 Q616.48 1099.68 613.401 1104.28 Q610.345 1108.87 604.535 1108.87 Q598.725 1108.87 595.646 1104.28 Q592.591 1099.68 592.591 1090.95 Q592.591 1082.2 595.646 1077.62 Q598.725 1073.01 604.535 1073.01 Z\" fill=\"#000000\" fill-rule=\"nonzero\" fill-opacity=\"1\" /><path clip-path=\"url(#clip480)\" d=\"M624.697 1102.32 L629.581 1102.32 L629.581 1108.2 L624.697 1108.2 L624.697 1102.32 Z\" fill=\"#000000\" fill-rule=\"nonzero\" fill-opacity=\"1\" /><path clip-path=\"url(#clip480)\" d=\"M649.766 1076.71 Q646.155 1076.71 644.327 1080.28 Q642.521 1083.82 642.521 1090.95 Q642.521 1098.06 644.327 1101.62 Q646.155 1105.16 649.766 1105.16 Q653.401 1105.16 655.206 1101.62 Q657.035 1098.06 657.035 1090.95 Q657.035 1083.82 655.206 1080.28 Q653.401 1076.71 649.766 1076.71 M649.766 1073.01 Q655.577 1073.01 658.632 1077.62 Q661.711 1082.2 661.711 1090.95 Q661.711 1099.68 658.632 1104.28 Q655.577 1108.87 649.766 1108.87 Q643.956 1108.87 640.878 1104.28 Q637.822 1099.68 637.822 1090.95 Q637.822 1082.2 640.878 1077.62 Q643.956 1073.01 649.766 1073.01 Z\" fill=\"#000000\" fill-rule=\"nonzero\" fill-opacity=\"1\" /><path clip-path=\"url(#clip480)\" d=\"M742.524 1173.16 Q738.913 1173.16 737.084 1176.72 Q735.278 1180.26 735.278 1187.39 Q735.278 1194.5 737.084 1198.07 Q738.913 1201.61 742.524 1201.61 Q746.158 1201.61 747.964 1198.07 Q749.792 1194.5 749.792 1187.39 Q749.792 1180.26 747.964 1176.72 Q746.158 1173.16 742.524 1173.16 M742.524 1169.45 Q748.334 1169.45 751.389 1174.06 Q754.468 1178.64 754.468 1187.39 Q754.468 1196.12 751.389 1200.73 Q748.334 1205.31 742.524 1205.31 Q736.714 1205.31 733.635 1200.73 Q730.579 1196.12 730.579 1187.39 Q730.579 1178.64 733.635 1174.06 Q736.714 1169.45 742.524 1169.45 Z\" fill=\"#000000\" fill-rule=\"nonzero\" fill-opacity=\"1\" /><path clip-path=\"url(#clip480)\" d=\"M762.686 1198.76 L767.57 1198.76 L767.57 1204.64 L762.686 1204.64 L762.686 1198.76 Z\" fill=\"#000000\" fill-rule=\"nonzero\" fill-opacity=\"1\" /><path clip-path=\"url(#clip480)\" d=\"M781.783 1200.7 L798.102 1200.7 L798.102 1204.64 L776.158 1204.64 L776.158 1200.7 Q778.82 1197.95 783.403 1193.32 Q788.01 1188.67 789.19 1187.32 Q791.436 1184.8 792.315 1183.07 Q793.218 1181.31 793.218 1179.62 Q793.218 1176.86 791.274 1175.13 Q789.352 1173.39 786.25 1173.39 Q784.051 1173.39 781.598 1174.15 Q779.167 1174.92 776.389 1176.47 L776.389 1171.75 Q779.213 1170.61 781.667 1170.03 Q784.121 1169.45 786.158 1169.45 Q791.528 1169.45 794.723 1172.14 Q797.917 1174.82 797.917 1179.32 Q797.917 1181.44 797.107 1183.37 Q796.32 1185.26 794.213 1187.86 Q793.635 1188.53 790.533 1191.75 Q787.431 1194.94 781.783 1200.7 Z\" fill=\"#000000\" fill-rule=\"nonzero\" fill-opacity=\"1\" /><path clip-path=\"url(#clip480)\" d=\"M876.832 1269.6 Q873.221 1269.6 871.392 1273.17 Q869.587 1276.71 869.587 1283.84 Q869.587 1290.94 871.392 1294.51 Q873.221 1298.05 876.832 1298.05 Q880.466 1298.05 882.272 1294.51 Q884.1 1290.94 884.1 1283.84 Q884.1 1276.71 882.272 1273.17 Q880.466 1269.6 876.832 1269.6 M876.832 1265.9 Q882.642 1265.9 885.698 1270.5 Q888.776 1275.09 888.776 1283.84 Q888.776 1292.56 885.698 1297.17 Q882.642 1301.75 876.832 1301.75 Q871.022 1301.75 867.943 1297.17 Q864.888 1292.56 864.888 1283.84 Q864.888 1275.09 867.943 1270.5 Q871.022 1265.9 876.832 1265.9 Z\" fill=\"#000000\" fill-rule=\"nonzero\" fill-opacity=\"1\" /><path clip-path=\"url(#clip480)\" d=\"M896.994 1295.2 L901.878 1295.2 L901.878 1301.08 L896.994 1301.08 L896.994 1295.2 Z\" fill=\"#000000\" fill-rule=\"nonzero\" fill-opacity=\"1\" /><path clip-path=\"url(#clip480)\" d=\"M924.91 1270.6 L913.105 1289.05 L924.91 1289.05 L924.91 1270.6 M923.684 1266.52 L929.563 1266.52 L929.563 1289.05 L934.494 1289.05 L934.494 1292.93 L929.563 1292.93 L929.563 1301.08 L924.91 1301.08 L924.91 1292.93 L909.309 1292.93 L909.309 1288.42 L923.684 1266.52 Z\" fill=\"#000000\" fill-rule=\"nonzero\" fill-opacity=\"1\" /><path clip-path=\"url(#clip480)\" d=\"M1013.55 1366.04 Q1009.94 1366.04 1008.11 1369.61 Q1006.3 1373.15 1006.3 1380.28 Q1006.3 1387.39 1008.11 1390.95 Q1009.94 1394.49 1013.55 1394.49 Q1017.18 1394.49 1018.99 1390.95 Q1020.82 1387.39 1020.82 1380.28 Q1020.82 1373.15 1018.99 1369.61 Q1017.18 1366.04 1013.55 1366.04 M1013.55 1362.34 Q1019.36 1362.34 1022.41 1366.95 Q1025.49 1371.53 1025.49 1380.28 Q1025.49 1389.01 1022.41 1393.61 Q1019.36 1398.2 1013.55 1398.2 Q1007.74 1398.2 1004.66 1393.61 Q1001.6 1389.01 1001.6 1380.28 Q1001.6 1371.53 1004.66 1366.95 Q1007.74 1362.34 1013.55 1362.34 Z\" fill=\"#000000\" fill-rule=\"nonzero\" fill-opacity=\"1\" /><path clip-path=\"url(#clip480)\" d=\"M1033.71 1391.65 L1038.59 1391.65 L1038.59 1397.53 L1033.71 1397.53 L1033.71 1391.65 Z\" fill=\"#000000\" fill-rule=\"nonzero\" fill-opacity=\"1\" /><path clip-path=\"url(#clip480)\" d=\"M1059.36 1378.38 Q1056.21 1378.38 1054.36 1380.54 Q1052.53 1382.69 1052.53 1386.44 Q1052.53 1390.16 1054.36 1392.34 Q1056.21 1394.49 1059.36 1394.49 Q1062.51 1394.49 1064.33 1392.34 Q1066.19 1390.16 1066.19 1386.44 Q1066.19 1382.69 1064.33 1380.54 Q1062.51 1378.38 1059.36 1378.38 M1068.64 1363.73 L1068.64 1367.99 Q1066.88 1367.16 1065.07 1366.72 Q1063.29 1366.28 1061.53 1366.28 Q1056.9 1366.28 1054.45 1369.4 Q1052.02 1372.53 1051.67 1378.85 Q1053.04 1376.83 1055.1 1375.77 Q1057.16 1374.68 1059.64 1374.68 Q1064.84 1374.68 1067.85 1377.85 Q1070.89 1381 1070.89 1386.44 Q1070.89 1391.76 1067.74 1394.98 Q1064.59 1398.2 1059.36 1398.2 Q1053.36 1398.2 1050.19 1393.61 Q1047.02 1389.01 1047.02 1380.28 Q1047.02 1372.09 1050.91 1367.23 Q1054.8 1362.34 1061.35 1362.34 Q1063.11 1362.34 1064.89 1362.69 Q1066.7 1363.04 1068.64 1363.73 Z\" fill=\"#000000\" fill-rule=\"nonzero\" fill-opacity=\"1\" /><path clip-path=\"url(#clip480)\" d=\"M1150.19 1462.49 Q1146.58 1462.49 1144.75 1466.05 Q1142.95 1469.59 1142.95 1476.72 Q1142.95 1483.83 1144.75 1487.4 Q1146.58 1490.94 1150.19 1490.94 Q1153.83 1490.94 1155.63 1487.4 Q1157.46 1483.83 1157.46 1476.72 Q1157.46 1469.59 1155.63 1466.05 Q1153.83 1462.49 1150.19 1462.49 M1150.19 1458.78 Q1156 1458.78 1159.06 1463.39 Q1162.14 1467.97 1162.14 1476.72 Q1162.14 1485.45 1159.06 1490.06 Q1156 1494.64 1150.19 1494.64 Q1144.38 1494.64 1141.3 1490.06 Q1138.25 1485.45 1138.25 1476.72 Q1138.25 1467.97 1141.3 1463.39 Q1144.38 1458.78 1150.19 1458.78 Z\" fill=\"#000000\" fill-rule=\"nonzero\" fill-opacity=\"1\" /><path clip-path=\"url(#clip480)\" d=\"M1170.36 1488.09 L1175.24 1488.09 L1175.24 1493.97 L1170.36 1493.97 L1170.36 1488.09 Z\" fill=\"#000000\" fill-rule=\"nonzero\" fill-opacity=\"1\" /><path clip-path=\"url(#clip480)\" d=\"M1195.42 1477.56 Q1192.09 1477.56 1190.17 1479.34 Q1188.27 1481.12 1188.27 1484.25 Q1188.27 1487.37 1190.17 1489.15 Q1192.09 1490.94 1195.42 1490.94 Q1198.76 1490.94 1200.68 1489.15 Q1202.6 1487.35 1202.6 1484.25 Q1202.6 1481.12 1200.68 1479.34 Q1198.78 1477.56 1195.42 1477.56 M1190.75 1475.57 Q1187.74 1474.83 1186.05 1472.77 Q1184.38 1470.71 1184.38 1467.74 Q1184.38 1463.6 1187.32 1461.19 Q1190.29 1458.78 1195.42 1458.78 Q1200.59 1458.78 1203.53 1461.19 Q1206.47 1463.6 1206.47 1467.74 Q1206.47 1470.71 1204.78 1472.77 Q1203.11 1474.83 1200.12 1475.57 Q1203.5 1476.35 1205.38 1478.65 Q1207.28 1480.94 1207.28 1484.25 Q1207.28 1489.27 1204.2 1491.96 Q1201.14 1494.64 1195.42 1494.64 Q1189.71 1494.64 1186.63 1491.96 Q1183.57 1489.27 1183.57 1484.25 Q1183.57 1480.94 1185.47 1478.65 Q1187.37 1476.35 1190.75 1475.57 M1189.04 1468.18 Q1189.04 1470.87 1190.7 1472.37 Q1192.39 1473.88 1195.42 1473.88 Q1198.43 1473.88 1200.12 1472.37 Q1201.84 1470.87 1201.84 1468.18 Q1201.84 1465.5 1200.12 1463.99 Q1198.43 1462.49 1195.42 1462.49 Q1192.39 1462.49 1190.7 1463.99 Q1189.04 1465.5 1189.04 1468.18 Z\" fill=\"#000000\" fill-rule=\"nonzero\" fill-opacity=\"1\" /><polyline clip-path=\"url(#clip480)\" style=\"stroke:#000000; stroke-linecap:round; stroke-linejoin:round; stroke-width:4; stroke-opacity:1; fill:none\" points=\"1254.68,1476.08 1842.23,1060.62 \"/>\n",
       "<polyline clip-path=\"url(#clip480)\" style=\"stroke:#000000; stroke-linecap:round; stroke-linejoin:round; stroke-width:4; stroke-opacity:1; fill:none\" points=\"1314.25,1433.96 1307.2,1428.98 \"/>\n",
       "<polyline clip-path=\"url(#clip480)\" style=\"stroke:#000000; stroke-linecap:round; stroke-linejoin:round; stroke-width:4; stroke-opacity:1; fill:none\" points=\"1428.94,1352.86 1421.89,1347.88 \"/>\n",
       "<polyline clip-path=\"url(#clip480)\" style=\"stroke:#000000; stroke-linecap:round; stroke-linejoin:round; stroke-width:4; stroke-opacity:1; fill:none\" points=\"1543.63,1271.76 1536.58,1266.78 \"/>\n",
       "<polyline clip-path=\"url(#clip480)\" style=\"stroke:#000000; stroke-linecap:round; stroke-linejoin:round; stroke-width:4; stroke-opacity:1; fill:none\" points=\"1658.32,1190.66 1651.27,1185.68 \"/>\n",
       "<polyline clip-path=\"url(#clip480)\" style=\"stroke:#000000; stroke-linecap:round; stroke-linejoin:round; stroke-width:4; stroke-opacity:1; fill:none\" points=\"1773.02,1109.56 1765.96,1104.58 \"/>\n",
       "<path clip-path=\"url(#clip480)\" d=\"M1348.23 1438.3 Q1344.62 1438.3 1342.79 1441.86 Q1340.99 1445.4 1340.99 1452.53 Q1340.99 1459.64 1342.79 1463.2 Q1344.62 1466.75 1348.23 1466.75 Q1351.87 1466.75 1353.67 1463.2 Q1355.5 1459.64 1355.5 1452.53 Q1355.5 1445.4 1353.67 1441.86 Q1351.87 1438.3 1348.23 1438.3 M1348.23 1434.59 Q1354.04 1434.59 1357.1 1439.2 Q1360.18 1443.78 1360.18 1452.53 Q1360.18 1461.26 1357.1 1465.87 Q1354.04 1470.45 1348.23 1470.45 Q1342.42 1470.45 1339.34 1465.87 Q1336.29 1461.26 1336.29 1452.53 Q1336.29 1443.78 1339.34 1439.2 Q1342.42 1434.59 1348.23 1434.59 Z\" fill=\"#000000\" fill-rule=\"nonzero\" fill-opacity=\"1\" /><path clip-path=\"url(#clip480)\" d=\"M1368.4 1463.9 L1373.28 1463.9 L1373.28 1469.78 L1368.4 1469.78 L1368.4 1463.9 Z\" fill=\"#000000\" fill-rule=\"nonzero\" fill-opacity=\"1\" /><path clip-path=\"url(#clip480)\" d=\"M1387.49 1465.84 L1403.81 1465.84 L1403.81 1469.78 L1381.87 1469.78 L1381.87 1465.84 Q1384.53 1463.09 1389.11 1458.46 Q1393.72 1453.81 1394.9 1452.46 Q1397.15 1449.94 1398.03 1448.2 Q1398.93 1446.44 1398.93 1444.75 Q1398.93 1442 1396.98 1440.26 Q1395.06 1438.53 1391.96 1438.53 Q1389.76 1438.53 1387.31 1439.29 Q1384.88 1440.06 1382.1 1441.61 L1382.1 1436.88 Q1384.92 1435.75 1387.38 1435.17 Q1389.83 1434.59 1391.87 1434.59 Q1397.24 1434.59 1400.43 1437.28 Q1403.63 1439.96 1403.63 1444.45 Q1403.63 1446.58 1402.82 1448.5 Q1402.03 1450.4 1399.92 1453 Q1399.34 1453.67 1396.24 1456.88 Q1393.14 1460.08 1387.49 1465.84 Z\" fill=\"#000000\" fill-rule=\"nonzero\" fill-opacity=\"1\" /><path clip-path=\"url(#clip480)\" d=\"M1462.93 1357.2 Q1459.31 1357.2 1457.49 1360.76 Q1455.68 1364.3 1455.68 1371.43 Q1455.68 1378.54 1457.49 1382.1 Q1459.31 1385.65 1462.93 1385.65 Q1466.56 1385.65 1468.37 1382.1 Q1470.19 1378.54 1470.19 1371.43 Q1470.19 1364.3 1468.37 1360.76 Q1466.56 1357.2 1462.93 1357.2 M1462.93 1353.49 Q1468.74 1353.49 1471.79 1358.1 Q1474.87 1362.68 1474.87 1371.43 Q1474.87 1380.16 1471.79 1384.77 Q1468.74 1389.35 1462.93 1389.35 Q1457.12 1389.35 1454.04 1384.77 Q1450.98 1380.16 1450.98 1371.43 Q1450.98 1362.68 1454.04 1358.1 Q1457.12 1353.49 1462.93 1353.49 Z\" fill=\"#000000\" fill-rule=\"nonzero\" fill-opacity=\"1\" /><path clip-path=\"url(#clip480)\" d=\"M1483.09 1382.8 L1487.97 1382.8 L1487.97 1388.68 L1483.09 1388.68 L1483.09 1382.8 Z\" fill=\"#000000\" fill-rule=\"nonzero\" fill-opacity=\"1\" /><path clip-path=\"url(#clip480)\" d=\"M1512.32 1370.04 Q1515.68 1370.76 1517.56 1373.03 Q1519.45 1375.3 1519.45 1378.63 Q1519.45 1383.75 1515.93 1386.55 Q1512.42 1389.35 1505.93 1389.35 Q1503.76 1389.35 1501.44 1388.91 Q1499.15 1388.49 1496.7 1387.64 L1496.7 1383.12 Q1498.64 1384.26 1500.96 1384.84 Q1503.27 1385.41 1505.8 1385.41 Q1510.19 1385.41 1512.49 1383.68 Q1514.8 1381.94 1514.8 1378.63 Q1514.8 1375.58 1512.65 1373.86 Q1510.52 1372.13 1506.7 1372.13 L1502.67 1372.13 L1502.67 1368.28 L1506.88 1368.28 Q1510.33 1368.28 1512.16 1366.92 Q1513.99 1365.53 1513.99 1362.94 Q1513.99 1360.28 1512.09 1358.86 Q1510.22 1357.43 1506.7 1357.43 Q1504.78 1357.43 1502.58 1357.85 Q1500.38 1358.26 1497.74 1359.14 L1497.74 1354.97 Q1500.4 1354.23 1502.72 1353.86 Q1505.06 1353.49 1507.12 1353.49 Q1512.44 1353.49 1515.54 1355.92 Q1518.64 1358.33 1518.64 1362.45 Q1518.64 1365.32 1517 1367.31 Q1515.36 1369.28 1512.32 1370.04 Z\" fill=\"#000000\" fill-rule=\"nonzero\" fill-opacity=\"1\" /><path clip-path=\"url(#clip480)\" d=\"M1577.62 1276.1 Q1574.01 1276.1 1572.18 1279.66 Q1570.37 1283.2 1570.37 1290.33 Q1570.37 1297.44 1572.18 1301 Q1574.01 1304.55 1577.62 1304.55 Q1581.25 1304.55 1583.06 1301 Q1584.89 1297.44 1584.89 1290.33 Q1584.89 1283.2 1583.06 1279.66 Q1581.25 1276.1 1577.62 1276.1 M1577.62 1272.39 Q1583.43 1272.39 1586.48 1277 Q1589.56 1281.58 1589.56 1290.33 Q1589.56 1299.06 1586.48 1303.67 Q1583.43 1308.25 1577.62 1308.25 Q1571.81 1308.25 1568.73 1303.67 Q1565.67 1299.06 1565.67 1290.33 Q1565.67 1281.58 1568.73 1277 Q1571.81 1272.39 1577.62 1272.39 Z\" fill=\"#000000\" fill-rule=\"nonzero\" fill-opacity=\"1\" /><path clip-path=\"url(#clip480)\" d=\"M1597.78 1301.7 L1602.66 1301.7 L1602.66 1307.58 L1597.78 1307.58 L1597.78 1301.7 Z\" fill=\"#000000\" fill-rule=\"nonzero\" fill-opacity=\"1\" /><path clip-path=\"url(#clip480)\" d=\"M1625.7 1277.09 L1613.89 1295.54 L1625.7 1295.54 L1625.7 1277.09 M1624.47 1273.02 L1630.35 1273.02 L1630.35 1295.54 L1635.28 1295.54 L1635.28 1299.43 L1630.35 1299.43 L1630.35 1307.58 L1625.7 1307.58 L1625.7 1299.43 L1610.09 1299.43 L1610.09 1294.92 L1624.47 1273.02 Z\" fill=\"#000000\" fill-rule=\"nonzero\" fill-opacity=\"1\" /><path clip-path=\"url(#clip480)\" d=\"M1692.31 1195 Q1688.7 1195 1686.87 1198.56 Q1685.06 1202.1 1685.06 1209.23 Q1685.06 1216.34 1686.87 1219.9 Q1688.7 1223.45 1692.31 1223.45 Q1695.94 1223.45 1697.75 1219.9 Q1699.58 1216.34 1699.58 1209.23 Q1699.58 1202.1 1697.75 1198.56 Q1695.94 1195 1692.31 1195 M1692.31 1191.29 Q1698.12 1191.29 1701.18 1195.9 Q1704.25 1200.48 1704.25 1209.23 Q1704.25 1217.96 1701.18 1222.57 Q1698.12 1227.15 1692.31 1227.15 Q1686.5 1227.15 1683.42 1222.57 Q1680.37 1217.96 1680.37 1209.23 Q1680.37 1200.48 1683.42 1195.9 Q1686.5 1191.29 1692.31 1191.29 Z\" fill=\"#000000\" fill-rule=\"nonzero\" fill-opacity=\"1\" /><path clip-path=\"url(#clip480)\" d=\"M1712.47 1220.6 L1717.36 1220.6 L1717.36 1226.48 L1712.47 1226.48 L1712.47 1220.6 Z\" fill=\"#000000\" fill-rule=\"nonzero\" fill-opacity=\"1\" /><path clip-path=\"url(#clip480)\" d=\"M1727.59 1191.92 L1745.94 1191.92 L1745.94 1195.85 L1731.87 1195.85 L1731.87 1204.33 Q1732.89 1203.98 1733.91 1203.82 Q1734.93 1203.63 1735.94 1203.63 Q1741.73 1203.63 1745.11 1206.8 Q1748.49 1209.97 1748.49 1215.39 Q1748.49 1220.97 1745.02 1224.07 Q1741.55 1227.15 1735.23 1227.15 Q1733.05 1227.15 1730.78 1226.78 Q1728.54 1226.41 1726.13 1225.67 L1726.13 1220.97 Q1728.21 1222.1 1730.44 1222.66 Q1732.66 1223.22 1735.13 1223.22 Q1739.14 1223.22 1741.48 1221.11 Q1743.81 1219 1743.81 1215.39 Q1743.81 1211.78 1741.48 1209.67 Q1739.14 1207.57 1735.13 1207.57 Q1733.26 1207.57 1731.38 1207.98 Q1729.53 1208.4 1727.59 1209.28 L1727.59 1191.92 Z\" fill=\"#000000\" fill-rule=\"nonzero\" fill-opacity=\"1\" /><path clip-path=\"url(#clip480)\" d=\"M1807 1113.9 Q1803.39 1113.9 1801.56 1117.46 Q1799.76 1121 1799.76 1128.13 Q1799.76 1135.24 1801.56 1138.81 Q1803.39 1142.35 1807 1142.35 Q1810.64 1142.35 1812.44 1138.81 Q1814.27 1135.24 1814.27 1128.13 Q1814.27 1121 1812.44 1117.46 Q1810.64 1113.9 1807 1113.9 M1807 1110.19 Q1812.81 1110.19 1815.87 1114.8 Q1818.95 1119.38 1818.95 1128.13 Q1818.95 1136.86 1815.87 1141.47 Q1812.81 1146.05 1807 1146.05 Q1801.19 1146.05 1798.11 1141.47 Q1795.06 1136.86 1795.06 1128.13 Q1795.06 1119.38 1798.11 1114.8 Q1801.19 1110.19 1807 1110.19 Z\" fill=\"#000000\" fill-rule=\"nonzero\" fill-opacity=\"1\" /><path clip-path=\"url(#clip480)\" d=\"M1827.16 1139.5 L1832.05 1139.5 L1832.05 1145.38 L1827.16 1145.38 L1827.16 1139.5 Z\" fill=\"#000000\" fill-rule=\"nonzero\" fill-opacity=\"1\" /><path clip-path=\"url(#clip480)\" d=\"M1852.81 1126.24 Q1849.66 1126.24 1847.81 1128.39 Q1845.98 1130.54 1845.98 1134.29 Q1845.98 1138.02 1847.81 1140.19 Q1849.66 1142.35 1852.81 1142.35 Q1855.96 1142.35 1857.79 1140.19 Q1859.64 1138.02 1859.64 1134.29 Q1859.64 1130.54 1857.79 1128.39 Q1855.96 1126.24 1852.81 1126.24 M1862.09 1111.58 L1862.09 1115.84 Q1860.34 1115.01 1858.53 1114.57 Q1856.75 1114.13 1854.99 1114.13 Q1850.36 1114.13 1847.91 1117.25 Q1845.47 1120.38 1845.13 1126.7 Q1846.49 1124.69 1848.55 1123.62 Q1850.61 1122.53 1853.09 1122.53 Q1858.3 1122.53 1861.31 1125.7 Q1864.34 1128.85 1864.34 1134.29 Q1864.34 1139.62 1861.19 1142.83 Q1858.04 1146.05 1852.81 1146.05 Q1846.82 1146.05 1843.65 1141.47 Q1840.47 1136.86 1840.47 1128.13 Q1840.47 1119.94 1844.36 1115.08 Q1848.25 1110.19 1854.8 1110.19 Q1856.56 1110.19 1858.34 1110.54 Q1860.15 1110.89 1862.09 1111.58 Z\" fill=\"#000000\" fill-rule=\"nonzero\" fill-opacity=\"1\" /><polyline clip-path=\"url(#clip480)\" style=\"stroke:#000000; stroke-linecap:round; stroke-linejoin:round; stroke-width:4; stroke-opacity:1; fill:none\" points=\"667.125,1060.62 667.125,473.07 \"/>\n",
       "<polyline clip-path=\"url(#clip480)\" style=\"stroke:#000000; stroke-linecap:round; stroke-linejoin:round; stroke-width:4; stroke-opacity:1; fill:none\" points=\"667.125,918.631 674.175,913.645 \"/>\n",
       "<polyline clip-path=\"url(#clip480)\" style=\"stroke:#000000; stroke-linecap:round; stroke-linejoin:round; stroke-width:4; stroke-opacity:1; fill:none\" points=\"667.125,775.653 674.175,770.668 \"/>\n",
       "<polyline clip-path=\"url(#clip480)\" style=\"stroke:#000000; stroke-linecap:round; stroke-linejoin:round; stroke-width:4; stroke-opacity:1; fill:none\" points=\"667.125,632.676 674.175,627.69 \"/>\n",
       "<polyline clip-path=\"url(#clip480)\" style=\"stroke:#000000; stroke-linecap:round; stroke-linejoin:round; stroke-width:4; stroke-opacity:1; fill:none\" points=\"667.125,489.699 674.175,484.713 \"/>\n",
       "<path clip-path=\"url(#clip480)\" d=\"M582.746 904.429 Q579.135 904.429 577.306 907.994 Q575.501 911.536 575.501 918.666 Q575.501 925.772 577.306 929.337 Q579.135 932.878 582.746 932.878 Q586.38 932.878 588.186 929.337 Q590.015 925.772 590.015 918.666 Q590.015 911.536 588.186 907.994 Q586.38 904.429 582.746 904.429 M582.746 900.726 Q588.556 900.726 591.612 905.332 Q594.691 909.916 594.691 918.666 Q594.691 927.392 591.612 931.999 Q588.556 936.582 582.746 936.582 Q576.936 936.582 573.857 931.999 Q570.802 927.392 570.802 918.666 Q570.802 909.916 573.857 905.332 Q576.936 900.726 582.746 900.726 Z\" fill=\"#000000\" fill-rule=\"nonzero\" fill-opacity=\"1\" /><path clip-path=\"url(#clip480)\" d=\"M602.908 930.031 L607.792 930.031 L607.792 935.911 L602.908 935.911 L602.908 930.031 Z\" fill=\"#000000\" fill-rule=\"nonzero\" fill-opacity=\"1\" /><path clip-path=\"url(#clip480)\" d=\"M622.005 931.976 L638.325 931.976 L638.325 935.911 L616.38 935.911 L616.38 931.976 Q619.042 929.221 623.626 924.591 Q628.232 919.939 629.413 918.596 Q631.658 916.073 632.538 914.337 Q633.44 912.578 633.44 910.888 Q633.44 908.133 631.496 906.397 Q629.575 904.661 626.473 904.661 Q624.274 904.661 621.82 905.425 Q619.39 906.189 616.612 907.74 L616.612 903.017 Q619.436 901.883 621.889 901.304 Q624.343 900.726 626.38 900.726 Q631.751 900.726 634.945 903.411 Q638.139 906.096 638.139 910.587 Q638.139 912.716 637.329 914.638 Q636.542 916.536 634.436 919.128 Q633.857 919.8 630.755 923.017 Q627.653 926.212 622.005 931.976 Z\" fill=\"#000000\" fill-rule=\"nonzero\" fill-opacity=\"1\" /><path clip-path=\"url(#clip480)\" d=\"M580.663 761.452 Q577.052 761.452 575.223 765.017 Q573.418 768.559 573.418 775.688 Q573.418 782.795 575.223 786.359 Q577.052 789.901 580.663 789.901 Q584.297 789.901 586.103 786.359 Q587.931 782.795 587.931 775.688 Q587.931 768.559 586.103 765.017 Q584.297 761.452 580.663 761.452 M580.663 757.748 Q586.473 757.748 589.529 762.355 Q592.607 766.938 592.607 775.688 Q592.607 784.415 589.529 789.021 Q586.473 793.605 580.663 793.605 Q574.853 793.605 571.774 789.021 Q568.718 784.415 568.718 775.688 Q568.718 766.938 571.774 762.355 Q574.853 757.748 580.663 757.748 Z\" fill=\"#000000\" fill-rule=\"nonzero\" fill-opacity=\"1\" /><path clip-path=\"url(#clip480)\" d=\"M600.825 787.054 L605.709 787.054 L605.709 792.933 L600.825 792.933 L600.825 787.054 Z\" fill=\"#000000\" fill-rule=\"nonzero\" fill-opacity=\"1\" /><path clip-path=\"url(#clip480)\" d=\"M628.741 762.447 L616.936 780.896 L628.741 780.896 L628.741 762.447 M627.514 758.373 L633.394 758.373 L633.394 780.896 L638.325 780.896 L638.325 784.785 L633.394 784.785 L633.394 792.933 L628.741 792.933 L628.741 784.785 L613.14 784.785 L613.14 780.271 L627.514 758.373 Z\" fill=\"#000000\" fill-rule=\"nonzero\" fill-opacity=\"1\" /><path clip-path=\"url(#clip480)\" d=\"M580.987 618.475 Q577.376 618.475 575.547 622.039 Q573.742 625.581 573.742 632.711 Q573.742 639.817 575.547 643.382 Q577.376 646.924 580.987 646.924 Q584.621 646.924 586.427 643.382 Q588.255 639.817 588.255 632.711 Q588.255 625.581 586.427 622.039 Q584.621 618.475 580.987 618.475 M580.987 614.771 Q586.797 614.771 589.853 619.377 Q592.931 623.961 592.931 632.711 Q592.931 641.438 589.853 646.044 Q586.797 650.627 580.987 650.627 Q575.177 650.627 572.098 646.044 Q569.043 641.438 569.043 632.711 Q569.043 623.961 572.098 619.377 Q575.177 614.771 580.987 614.771 Z\" fill=\"#000000\" fill-rule=\"nonzero\" fill-opacity=\"1\" /><path clip-path=\"url(#clip480)\" d=\"M601.149 644.076 L606.033 644.076 L606.033 649.956 L601.149 649.956 L601.149 644.076 Z\" fill=\"#000000\" fill-rule=\"nonzero\" fill-opacity=\"1\" /><path clip-path=\"url(#clip480)\" d=\"M626.797 630.813 Q623.649 630.813 621.797 632.965 Q619.968 635.118 619.968 638.868 Q619.968 642.595 621.797 644.771 Q623.649 646.924 626.797 646.924 Q629.945 646.924 631.774 644.771 Q633.626 642.595 633.626 638.868 Q633.626 635.118 631.774 632.965 Q629.945 630.813 626.797 630.813 M636.079 616.16 L636.079 620.419 Q634.32 619.586 632.514 619.146 Q630.732 618.706 628.973 618.706 Q624.343 618.706 621.889 621.831 Q619.459 624.956 619.112 631.276 Q620.477 629.262 622.538 628.197 Q624.598 627.109 627.075 627.109 Q632.283 627.109 635.292 630.28 Q638.325 633.428 638.325 638.868 Q638.325 644.192 635.176 647.41 Q632.028 650.627 626.797 650.627 Q620.802 650.627 617.63 646.044 Q614.459 641.438 614.459 632.711 Q614.459 624.516 618.348 619.655 Q622.237 614.771 628.788 614.771 Q630.547 614.771 632.329 615.118 Q634.135 615.465 636.079 616.16 Z\" fill=\"#000000\" fill-rule=\"nonzero\" fill-opacity=\"1\" /><path clip-path=\"url(#clip480)\" d=\"M581.242 475.497 Q577.63 475.497 575.802 479.062 Q573.996 482.604 573.996 489.733 Q573.996 496.84 575.802 500.405 Q577.63 503.946 581.242 503.946 Q584.876 503.946 586.681 500.405 Q588.51 496.84 588.51 489.733 Q588.51 482.604 586.681 479.062 Q584.876 475.497 581.242 475.497 M581.242 471.794 Q587.052 471.794 590.107 476.4 Q593.186 480.983 593.186 489.733 Q593.186 498.46 590.107 503.067 Q587.052 507.65 581.242 507.65 Q575.431 507.65 572.353 503.067 Q569.297 498.46 569.297 489.733 Q569.297 480.983 572.353 476.4 Q575.431 471.794 581.242 471.794 Z\" fill=\"#000000\" fill-rule=\"nonzero\" fill-opacity=\"1\" /><path clip-path=\"url(#clip480)\" d=\"M601.403 501.099 L606.288 501.099 L606.288 506.979 L601.403 506.979 L601.403 501.099 Z\" fill=\"#000000\" fill-rule=\"nonzero\" fill-opacity=\"1\" /><path clip-path=\"url(#clip480)\" d=\"M626.473 490.567 Q623.139 490.567 621.218 492.349 Q619.32 494.131 619.32 497.256 Q619.32 500.381 621.218 502.164 Q623.139 503.946 626.473 503.946 Q629.806 503.946 631.727 502.164 Q633.649 500.358 633.649 497.256 Q633.649 494.131 631.727 492.349 Q629.829 490.567 626.473 490.567 M621.797 488.576 Q618.788 487.835 617.098 485.775 Q615.431 483.715 615.431 480.752 Q615.431 476.608 618.371 474.201 Q621.334 471.794 626.473 471.794 Q631.635 471.794 634.575 474.201 Q637.514 476.608 637.514 480.752 Q637.514 483.715 635.825 485.775 Q634.158 487.835 631.172 488.576 Q634.551 489.363 636.426 491.655 Q638.325 493.946 638.325 497.256 Q638.325 502.28 635.246 504.965 Q632.19 507.65 626.473 507.65 Q620.755 507.65 617.677 504.965 Q614.621 502.28 614.621 497.256 Q614.621 493.946 616.519 491.655 Q618.417 489.363 621.797 488.576 M620.084 481.192 Q620.084 483.877 621.751 485.381 Q623.44 486.886 626.473 486.886 Q629.482 486.886 631.172 485.381 Q632.885 483.877 632.885 481.192 Q632.885 478.507 631.172 477.002 Q629.482 475.497 626.473 475.497 Q623.44 475.497 621.751 477.002 Q620.084 478.507 620.084 481.192 Z\" fill=\"#000000\" fill-rule=\"nonzero\" fill-opacity=\"1\" /><circle clip-path=\"url(#clip482)\" cx=\"743.323\" cy=\"459.335\" r=\"14.4\" fill=\"#ff0000\" fill-rule=\"evenodd\" fill-opacity=\"1\" stroke=\"#000000\" stroke-opacity=\"1\" stroke-width=\"3.2\"/>\n",
       "<circle clip-path=\"url(#clip482)\" cx=\"1178.29\" cy=\"459.259\" r=\"14.4\" fill=\"#ff0000\" fill-rule=\"evenodd\" fill-opacity=\"1\" stroke=\"#000000\" stroke-opacity=\"1\" stroke-width=\"3.2\"/>\n",
       "<circle clip-path=\"url(#clip482)\" cx=\"1329.45\" cy=\"547.746\" r=\"14.4\" fill=\"#ff0000\" fill-rule=\"evenodd\" fill-opacity=\"1\" stroke=\"#000000\" stroke-opacity=\"1\" stroke-width=\"3.2\"/>\n",
       "<circle clip-path=\"url(#clip482)\" cx=\"1372.81\" cy=\"657.583\" r=\"14.4\" fill=\"#ff0000\" fill-rule=\"evenodd\" fill-opacity=\"1\" stroke=\"#000000\" stroke-opacity=\"1\" stroke-width=\"3.2\"/>\n",
       "<circle clip-path=\"url(#clip482)\" cx=\"1376.48\" cy=\"764.546\" r=\"14.4\" fill=\"#ff0000\" fill-rule=\"evenodd\" fill-opacity=\"1\" stroke=\"#000000\" stroke-opacity=\"1\" stroke-width=\"3.2\"/>\n",
       "<circle clip-path=\"url(#clip482)\" cx=\"1366.66\" cy=\"860.863\" r=\"14.4\" fill=\"#ff0000\" fill-rule=\"evenodd\" fill-opacity=\"1\" stroke=\"#000000\" stroke-opacity=\"1\" stroke-width=\"3.2\"/>\n",
       "<circle clip-path=\"url(#clip482)\" cx=\"1353.25\" cy=\"944.92\" r=\"14.4\" fill=\"#ff0000\" fill-rule=\"evenodd\" fill-opacity=\"1\" stroke=\"#000000\" stroke-opacity=\"1\" stroke-width=\"3.2\"/>\n",
       "<circle clip-path=\"url(#clip482)\" cx=\"1339.87\" cy=\"1017.29\" r=\"14.4\" fill=\"#ff0000\" fill-rule=\"evenodd\" fill-opacity=\"1\" stroke=\"#000000\" stroke-opacity=\"1\" stroke-width=\"3.2\"/>\n",
       "<circle clip-path=\"url(#clip482)\" cx=\"1327.72\" cy=\"1079.23\" r=\"14.4\" fill=\"#ff0000\" fill-rule=\"evenodd\" fill-opacity=\"1\" stroke=\"#000000\" stroke-opacity=\"1\" stroke-width=\"3.2\"/>\n",
       "<circle clip-path=\"url(#clip482)\" cx=\"1317.07\" cy=\"1132.1\" r=\"14.4\" fill=\"#ff0000\" fill-rule=\"evenodd\" fill-opacity=\"1\" stroke=\"#000000\" stroke-opacity=\"1\" stroke-width=\"3.2\"/>\n",
       "<circle clip-path=\"url(#clip482)\" cx=\"1307.88\" cy=\"1177.17\" r=\"14.4\" fill=\"#ff0000\" fill-rule=\"evenodd\" fill-opacity=\"1\" stroke=\"#000000\" stroke-opacity=\"1\" stroke-width=\"3.2\"/>\n",
       "<circle clip-path=\"url(#clip482)\" cx=\"1300.01\" cy=\"1215.57\" r=\"14.4\" fill=\"#ff0000\" fill-rule=\"evenodd\" fill-opacity=\"1\" stroke=\"#000000\" stroke-opacity=\"1\" stroke-width=\"3.2\"/>\n",
       "<circle clip-path=\"url(#clip482)\" cx=\"1293.29\" cy=\"1248.27\" r=\"14.4\" fill=\"#ff0000\" fill-rule=\"evenodd\" fill-opacity=\"1\" stroke=\"#000000\" stroke-opacity=\"1\" stroke-width=\"3.2\"/>\n",
       "<circle clip-path=\"url(#clip482)\" cx=\"1287.57\" cy=\"1276.12\" r=\"14.4\" fill=\"#ff0000\" fill-rule=\"evenodd\" fill-opacity=\"1\" stroke=\"#000000\" stroke-opacity=\"1\" stroke-width=\"3.2\"/>\n",
       "<circle clip-path=\"url(#clip482)\" cx=\"1282.69\" cy=\"1299.84\" r=\"14.4\" fill=\"#ff0000\" fill-rule=\"evenodd\" fill-opacity=\"1\" stroke=\"#000000\" stroke-opacity=\"1\" stroke-width=\"3.2\"/>\n",
       "<circle clip-path=\"url(#clip482)\" cx=\"1278.53\" cy=\"1320.04\" r=\"14.4\" fill=\"#ff0000\" fill-rule=\"evenodd\" fill-opacity=\"1\" stroke=\"#000000\" stroke-opacity=\"1\" stroke-width=\"3.2\"/>\n",
       "<circle clip-path=\"url(#clip482)\" cx=\"1274.99\" cy=\"1337.25\" r=\"14.4\" fill=\"#ff0000\" fill-rule=\"evenodd\" fill-opacity=\"1\" stroke=\"#000000\" stroke-opacity=\"1\" stroke-width=\"3.2\"/>\n",
       "<circle clip-path=\"url(#clip482)\" cx=\"1271.98\" cy=\"1351.89\" r=\"14.4\" fill=\"#ff0000\" fill-rule=\"evenodd\" fill-opacity=\"1\" stroke=\"#000000\" stroke-opacity=\"1\" stroke-width=\"3.2\"/>\n",
       "<circle clip-path=\"url(#clip482)\" cx=\"1269.41\" cy=\"1364.37\" r=\"14.4\" fill=\"#ff0000\" fill-rule=\"evenodd\" fill-opacity=\"1\" stroke=\"#000000\" stroke-opacity=\"1\" stroke-width=\"3.2\"/>\n",
       "<circle clip-path=\"url(#clip482)\" cx=\"1267.22\" cy=\"1374.99\" r=\"14.4\" fill=\"#ff0000\" fill-rule=\"evenodd\" fill-opacity=\"1\" stroke=\"#000000\" stroke-opacity=\"1\" stroke-width=\"3.2\"/>\n",
       "<circle clip-path=\"url(#clip482)\" cx=\"1254.68\" cy=\"1435.94\" r=\"14.4\" fill=\"#000000\" fill-rule=\"evenodd\" fill-opacity=\"1\" stroke=\"none\"/>\n",
       "</svg>\n"
      ],
      "text/html": [
       "<?xml version=\"1.0\" encoding=\"utf-8\"?>\n",
       "<svg xmlns=\"http://www.w3.org/2000/svg\" xmlns:xlink=\"http://www.w3.org/1999/xlink\" width=\"600\" height=\"400\" viewBox=\"0 0 2400 1600\">\n",
       "<defs>\n",
       "  <clipPath id=\"clip530\">\n",
       "    <rect x=\"0\" y=\"0\" width=\"2400\" height=\"1600\"/>\n",
       "  </clipPath>\n",
       "</defs>\n",
       "<path clip-path=\"url(#clip530)\" d=\"M0 1600 L2400 1600 L2400 8.88178e-14 L0 8.88178e-14  Z\" fill=\"#ffffff\" fill-rule=\"evenodd\" fill-opacity=\"1\"/>\n",
       "<defs>\n",
       "  <clipPath id=\"clip531\">\n",
       "    <rect x=\"480\" y=\"0\" width=\"1681\" height=\"1600\"/>\n",
       "  </clipPath>\n",
       "</defs>\n",
       "<defs>\n",
       "  <clipPath id=\"clip532\">\n",
       "    <rect x=\"156\" y=\"47\" width=\"2197\" height=\"1440\"/>\n",
       "  </clipPath>\n",
       "</defs>\n",
       "<path clip-path=\"url(#clip532)\" d=\"M-1145.16 3049.33 L-1145.16 755.485 L218.754 -866.507 L1582.67 755.485 L1582.67 3049.33 L218.754 4671.32 L-1145.16 3049.33  Z\" fill=\"#ffffff\" fill-rule=\"evenodd\" fill-opacity=\"1\"/>\n",
       "<polyline clip-path=\"url(#clip532)\" style=\"stroke:#000000; stroke-linecap:round; stroke-linejoin:round; stroke-width:2; stroke-opacity:0.5; fill:none\" points=\"683.753,1072.38 1271.31,656.918 1271.31,69.3658 \"/>\n",
       "<polyline clip-path=\"url(#clip532)\" style=\"stroke:#000000; stroke-linecap:round; stroke-linejoin:round; stroke-width:2; stroke-opacity:0.5; fill:none\" points=\"820.145,1168.82 1407.7,753.362 1407.7,165.809 \"/>\n",
       "<polyline clip-path=\"url(#clip532)\" style=\"stroke:#000000; stroke-linecap:round; stroke-linejoin:round; stroke-width:2; stroke-opacity:0.5; fill:none\" points=\"956.536,1265.27 1544.09,849.805 1544.09,262.252 \"/>\n",
       "<polyline clip-path=\"url(#clip532)\" style=\"stroke:#000000; stroke-linecap:round; stroke-linejoin:round; stroke-width:2; stroke-opacity:0.5; fill:none\" points=\"1092.93,1361.71 1680.48,946.248 1680.48,358.696 \"/>\n",
       "<polyline clip-path=\"url(#clip532)\" style=\"stroke:#000000; stroke-linecap:round; stroke-linejoin:round; stroke-width:2; stroke-opacity:0.5; fill:none\" points=\"1229.32,1458.15 1816.87,1042.69 1816.87,455.139 \"/>\n",
       "<polyline clip-path=\"url(#clip532)\" style=\"stroke:#000000; stroke-linecap:round; stroke-linejoin:round; stroke-width:2; stroke-opacity:0.5; fill:none\" points=\"1314.25,1433.96 726.694,1018.5 726.694,430.948 \"/>\n",
       "<polyline clip-path=\"url(#clip532)\" style=\"stroke:#000000; stroke-linecap:round; stroke-linejoin:round; stroke-width:2; stroke-opacity:0.5; fill:none\" points=\"1428.94,1352.86 841.386,937.401 841.386,349.848 \"/>\n",
       "<polyline clip-path=\"url(#clip532)\" style=\"stroke:#000000; stroke-linecap:round; stroke-linejoin:round; stroke-width:2; stroke-opacity:0.5; fill:none\" points=\"1543.63,1271.76 956.079,856.301 956.079,268.748 \"/>\n",
       "<polyline clip-path=\"url(#clip532)\" style=\"stroke:#000000; stroke-linecap:round; stroke-linejoin:round; stroke-width:2; stroke-opacity:0.5; fill:none\" points=\"1658.32,1190.66 1070.77,775.201 1070.77,187.649 \"/>\n",
       "<polyline clip-path=\"url(#clip532)\" style=\"stroke:#000000; stroke-linecap:round; stroke-linejoin:round; stroke-width:2; stroke-opacity:0.5; fill:none\" points=\"1773.02,1109.56 1185.46,694.102 1185.46,106.549 \"/>\n",
       "<polyline clip-path=\"url(#clip532)\" style=\"stroke:#000000; stroke-linecap:round; stroke-linejoin:round; stroke-width:2; stroke-opacity:0.5; fill:none\" points=\"667.125,918.631 1254.68,503.168 1842.23,918.631 \"/>\n",
       "<polyline clip-path=\"url(#clip532)\" style=\"stroke:#000000; stroke-linecap:round; stroke-linejoin:round; stroke-width:2; stroke-opacity:0.5; fill:none\" points=\"667.125,775.653 1254.68,360.191 1842.23,775.653 \"/>\n",
       "<polyline clip-path=\"url(#clip532)\" style=\"stroke:#000000; stroke-linecap:round; stroke-linejoin:round; stroke-width:2; stroke-opacity:0.5; fill:none\" points=\"667.125,632.676 1254.68,217.214 1842.23,632.676 \"/>\n",
       "<polyline clip-path=\"url(#clip532)\" style=\"stroke:#000000; stroke-linecap:round; stroke-linejoin:round; stroke-width:2; stroke-opacity:0.5; fill:none\" points=\"667.125,489.699 1254.68,74.2362 1842.23,489.699 \"/>\n",
       "<polyline clip-path=\"url(#clip530)\" style=\"stroke:#000000; stroke-linecap:round; stroke-linejoin:round; stroke-width:4; stroke-opacity:1; fill:none\" points=\"667.125,1060.62 1254.68,1476.08 \"/>\n",
       "<polyline clip-path=\"url(#clip530)\" style=\"stroke:#000000; stroke-linecap:round; stroke-linejoin:round; stroke-width:4; stroke-opacity:1; fill:none\" points=\"683.753,1072.38 690.804,1067.4 \"/>\n",
       "<polyline clip-path=\"url(#clip530)\" style=\"stroke:#000000; stroke-linecap:round; stroke-linejoin:round; stroke-width:4; stroke-opacity:1; fill:none\" points=\"820.145,1168.82 827.195,1163.84 \"/>\n",
       "<polyline clip-path=\"url(#clip530)\" style=\"stroke:#000000; stroke-linecap:round; stroke-linejoin:round; stroke-width:4; stroke-opacity:1; fill:none\" points=\"956.536,1265.27 963.587,1260.28 \"/>\n",
       "<polyline clip-path=\"url(#clip530)\" style=\"stroke:#000000; stroke-linecap:round; stroke-linejoin:round; stroke-width:4; stroke-opacity:1; fill:none\" points=\"1092.93,1361.71 1099.98,1356.72 \"/>\n",
       "<polyline clip-path=\"url(#clip530)\" style=\"stroke:#000000; stroke-linecap:round; stroke-linejoin:round; stroke-width:4; stroke-opacity:1; fill:none\" points=\"1229.32,1458.15 1236.37,1453.17 \"/>\n",
       "<path clip-path=\"url(#clip530)\" d=\"M604.535 1076.71 Q600.924 1076.71 599.095 1080.28 Q597.29 1083.82 597.29 1090.95 Q597.29 1098.06 599.095 1101.62 Q600.924 1105.16 604.535 1105.16 Q608.169 1105.16 609.975 1101.62 Q611.804 1098.06 611.804 1090.95 Q611.804 1083.82 609.975 1080.28 Q608.169 1076.71 604.535 1076.71 M604.535 1073.01 Q610.345 1073.01 613.401 1077.62 Q616.48 1082.2 616.48 1090.95 Q616.48 1099.68 613.401 1104.28 Q610.345 1108.87 604.535 1108.87 Q598.725 1108.87 595.646 1104.28 Q592.591 1099.68 592.591 1090.95 Q592.591 1082.2 595.646 1077.62 Q598.725 1073.01 604.535 1073.01 Z\" fill=\"#000000\" fill-rule=\"nonzero\" fill-opacity=\"1\" /><path clip-path=\"url(#clip530)\" d=\"M624.697 1102.32 L629.581 1102.32 L629.581 1108.2 L624.697 1108.2 L624.697 1102.32 Z\" fill=\"#000000\" fill-rule=\"nonzero\" fill-opacity=\"1\" /><path clip-path=\"url(#clip530)\" d=\"M649.766 1076.71 Q646.155 1076.71 644.327 1080.28 Q642.521 1083.82 642.521 1090.95 Q642.521 1098.06 644.327 1101.62 Q646.155 1105.16 649.766 1105.16 Q653.401 1105.16 655.206 1101.62 Q657.035 1098.06 657.035 1090.95 Q657.035 1083.82 655.206 1080.28 Q653.401 1076.71 649.766 1076.71 M649.766 1073.01 Q655.577 1073.01 658.632 1077.62 Q661.711 1082.2 661.711 1090.95 Q661.711 1099.68 658.632 1104.28 Q655.577 1108.87 649.766 1108.87 Q643.956 1108.87 640.878 1104.28 Q637.822 1099.68 637.822 1090.95 Q637.822 1082.2 640.878 1077.62 Q643.956 1073.01 649.766 1073.01 Z\" fill=\"#000000\" fill-rule=\"nonzero\" fill-opacity=\"1\" /><path clip-path=\"url(#clip530)\" d=\"M742.524 1173.16 Q738.913 1173.16 737.084 1176.72 Q735.278 1180.26 735.278 1187.39 Q735.278 1194.5 737.084 1198.07 Q738.913 1201.61 742.524 1201.61 Q746.158 1201.61 747.964 1198.07 Q749.792 1194.5 749.792 1187.39 Q749.792 1180.26 747.964 1176.72 Q746.158 1173.16 742.524 1173.16 M742.524 1169.45 Q748.334 1169.45 751.389 1174.06 Q754.468 1178.64 754.468 1187.39 Q754.468 1196.12 751.389 1200.73 Q748.334 1205.31 742.524 1205.31 Q736.714 1205.31 733.635 1200.73 Q730.579 1196.12 730.579 1187.39 Q730.579 1178.64 733.635 1174.06 Q736.714 1169.45 742.524 1169.45 Z\" fill=\"#000000\" fill-rule=\"nonzero\" fill-opacity=\"1\" /><path clip-path=\"url(#clip530)\" d=\"M762.686 1198.76 L767.57 1198.76 L767.57 1204.64 L762.686 1204.64 L762.686 1198.76 Z\" fill=\"#000000\" fill-rule=\"nonzero\" fill-opacity=\"1\" /><path clip-path=\"url(#clip530)\" d=\"M781.783 1200.7 L798.102 1200.7 L798.102 1204.64 L776.158 1204.64 L776.158 1200.7 Q778.82 1197.95 783.403 1193.32 Q788.01 1188.67 789.19 1187.32 Q791.436 1184.8 792.315 1183.07 Q793.218 1181.31 793.218 1179.62 Q793.218 1176.86 791.274 1175.13 Q789.352 1173.39 786.25 1173.39 Q784.051 1173.39 781.598 1174.15 Q779.167 1174.92 776.389 1176.47 L776.389 1171.75 Q779.213 1170.61 781.667 1170.03 Q784.121 1169.45 786.158 1169.45 Q791.528 1169.45 794.723 1172.14 Q797.917 1174.82 797.917 1179.32 Q797.917 1181.44 797.107 1183.37 Q796.32 1185.26 794.213 1187.86 Q793.635 1188.53 790.533 1191.75 Q787.431 1194.94 781.783 1200.7 Z\" fill=\"#000000\" fill-rule=\"nonzero\" fill-opacity=\"1\" /><path clip-path=\"url(#clip530)\" d=\"M876.832 1269.6 Q873.221 1269.6 871.392 1273.17 Q869.587 1276.71 869.587 1283.84 Q869.587 1290.94 871.392 1294.51 Q873.221 1298.05 876.832 1298.05 Q880.466 1298.05 882.272 1294.51 Q884.1 1290.94 884.1 1283.84 Q884.1 1276.71 882.272 1273.17 Q880.466 1269.6 876.832 1269.6 M876.832 1265.9 Q882.642 1265.9 885.698 1270.5 Q888.776 1275.09 888.776 1283.84 Q888.776 1292.56 885.698 1297.17 Q882.642 1301.75 876.832 1301.75 Q871.022 1301.75 867.943 1297.17 Q864.888 1292.56 864.888 1283.84 Q864.888 1275.09 867.943 1270.5 Q871.022 1265.9 876.832 1265.9 Z\" fill=\"#000000\" fill-rule=\"nonzero\" fill-opacity=\"1\" /><path clip-path=\"url(#clip530)\" d=\"M896.994 1295.2 L901.878 1295.2 L901.878 1301.08 L896.994 1301.08 L896.994 1295.2 Z\" fill=\"#000000\" fill-rule=\"nonzero\" fill-opacity=\"1\" /><path clip-path=\"url(#clip530)\" d=\"M924.91 1270.6 L913.105 1289.05 L924.91 1289.05 L924.91 1270.6 M923.684 1266.52 L929.563 1266.52 L929.563 1289.05 L934.494 1289.05 L934.494 1292.93 L929.563 1292.93 L929.563 1301.08 L924.91 1301.08 L924.91 1292.93 L909.309 1292.93 L909.309 1288.42 L923.684 1266.52 Z\" fill=\"#000000\" fill-rule=\"nonzero\" fill-opacity=\"1\" /><path clip-path=\"url(#clip530)\" d=\"M1013.55 1366.04 Q1009.94 1366.04 1008.11 1369.61 Q1006.3 1373.15 1006.3 1380.28 Q1006.3 1387.39 1008.11 1390.95 Q1009.94 1394.49 1013.55 1394.49 Q1017.18 1394.49 1018.99 1390.95 Q1020.82 1387.39 1020.82 1380.28 Q1020.82 1373.15 1018.99 1369.61 Q1017.18 1366.04 1013.55 1366.04 M1013.55 1362.34 Q1019.36 1362.34 1022.41 1366.95 Q1025.49 1371.53 1025.49 1380.28 Q1025.49 1389.01 1022.41 1393.61 Q1019.36 1398.2 1013.55 1398.2 Q1007.74 1398.2 1004.66 1393.61 Q1001.6 1389.01 1001.6 1380.28 Q1001.6 1371.53 1004.66 1366.95 Q1007.74 1362.34 1013.55 1362.34 Z\" fill=\"#000000\" fill-rule=\"nonzero\" fill-opacity=\"1\" /><path clip-path=\"url(#clip530)\" d=\"M1033.71 1391.65 L1038.59 1391.65 L1038.59 1397.53 L1033.71 1397.53 L1033.71 1391.65 Z\" fill=\"#000000\" fill-rule=\"nonzero\" fill-opacity=\"1\" /><path clip-path=\"url(#clip530)\" d=\"M1059.36 1378.38 Q1056.21 1378.38 1054.36 1380.54 Q1052.53 1382.69 1052.53 1386.44 Q1052.53 1390.16 1054.36 1392.34 Q1056.21 1394.49 1059.36 1394.49 Q1062.51 1394.49 1064.33 1392.34 Q1066.19 1390.16 1066.19 1386.44 Q1066.19 1382.69 1064.33 1380.54 Q1062.51 1378.38 1059.36 1378.38 M1068.64 1363.73 L1068.64 1367.99 Q1066.88 1367.16 1065.07 1366.72 Q1063.29 1366.28 1061.53 1366.28 Q1056.9 1366.28 1054.45 1369.4 Q1052.02 1372.53 1051.67 1378.85 Q1053.04 1376.83 1055.1 1375.77 Q1057.16 1374.68 1059.64 1374.68 Q1064.84 1374.68 1067.85 1377.85 Q1070.89 1381 1070.89 1386.44 Q1070.89 1391.76 1067.74 1394.98 Q1064.59 1398.2 1059.36 1398.2 Q1053.36 1398.2 1050.19 1393.61 Q1047.02 1389.01 1047.02 1380.28 Q1047.02 1372.09 1050.91 1367.23 Q1054.8 1362.34 1061.35 1362.34 Q1063.11 1362.34 1064.89 1362.69 Q1066.7 1363.04 1068.64 1363.73 Z\" fill=\"#000000\" fill-rule=\"nonzero\" fill-opacity=\"1\" /><path clip-path=\"url(#clip530)\" d=\"M1150.19 1462.49 Q1146.58 1462.49 1144.75 1466.05 Q1142.95 1469.59 1142.95 1476.72 Q1142.95 1483.83 1144.75 1487.4 Q1146.58 1490.94 1150.19 1490.94 Q1153.83 1490.94 1155.63 1487.4 Q1157.46 1483.83 1157.46 1476.72 Q1157.46 1469.59 1155.63 1466.05 Q1153.83 1462.49 1150.19 1462.49 M1150.19 1458.78 Q1156 1458.78 1159.06 1463.39 Q1162.14 1467.97 1162.14 1476.72 Q1162.14 1485.45 1159.06 1490.06 Q1156 1494.64 1150.19 1494.64 Q1144.38 1494.64 1141.3 1490.06 Q1138.25 1485.45 1138.25 1476.72 Q1138.25 1467.97 1141.3 1463.39 Q1144.38 1458.78 1150.19 1458.78 Z\" fill=\"#000000\" fill-rule=\"nonzero\" fill-opacity=\"1\" /><path clip-path=\"url(#clip530)\" d=\"M1170.36 1488.09 L1175.24 1488.09 L1175.24 1493.97 L1170.36 1493.97 L1170.36 1488.09 Z\" fill=\"#000000\" fill-rule=\"nonzero\" fill-opacity=\"1\" /><path clip-path=\"url(#clip530)\" d=\"M1195.42 1477.56 Q1192.09 1477.56 1190.17 1479.34 Q1188.27 1481.12 1188.27 1484.25 Q1188.27 1487.37 1190.17 1489.15 Q1192.09 1490.94 1195.42 1490.94 Q1198.76 1490.94 1200.68 1489.15 Q1202.6 1487.35 1202.6 1484.25 Q1202.6 1481.12 1200.68 1479.34 Q1198.78 1477.56 1195.42 1477.56 M1190.75 1475.57 Q1187.74 1474.83 1186.05 1472.77 Q1184.38 1470.71 1184.38 1467.74 Q1184.38 1463.6 1187.32 1461.19 Q1190.29 1458.78 1195.42 1458.78 Q1200.59 1458.78 1203.53 1461.19 Q1206.47 1463.6 1206.47 1467.74 Q1206.47 1470.71 1204.78 1472.77 Q1203.11 1474.83 1200.12 1475.57 Q1203.5 1476.35 1205.38 1478.65 Q1207.28 1480.94 1207.28 1484.25 Q1207.28 1489.27 1204.2 1491.96 Q1201.14 1494.64 1195.42 1494.64 Q1189.71 1494.64 1186.63 1491.96 Q1183.57 1489.27 1183.57 1484.25 Q1183.57 1480.94 1185.47 1478.65 Q1187.37 1476.35 1190.75 1475.57 M1189.04 1468.18 Q1189.04 1470.87 1190.7 1472.37 Q1192.39 1473.88 1195.42 1473.88 Q1198.43 1473.88 1200.12 1472.37 Q1201.84 1470.87 1201.84 1468.18 Q1201.84 1465.5 1200.12 1463.99 Q1198.43 1462.49 1195.42 1462.49 Q1192.39 1462.49 1190.7 1463.99 Q1189.04 1465.5 1189.04 1468.18 Z\" fill=\"#000000\" fill-rule=\"nonzero\" fill-opacity=\"1\" /><polyline clip-path=\"url(#clip530)\" style=\"stroke:#000000; stroke-linecap:round; stroke-linejoin:round; stroke-width:4; stroke-opacity:1; fill:none\" points=\"1254.68,1476.08 1842.23,1060.62 \"/>\n",
       "<polyline clip-path=\"url(#clip530)\" style=\"stroke:#000000; stroke-linecap:round; stroke-linejoin:round; stroke-width:4; stroke-opacity:1; fill:none\" points=\"1314.25,1433.96 1307.2,1428.98 \"/>\n",
       "<polyline clip-path=\"url(#clip530)\" style=\"stroke:#000000; stroke-linecap:round; stroke-linejoin:round; stroke-width:4; stroke-opacity:1; fill:none\" points=\"1428.94,1352.86 1421.89,1347.88 \"/>\n",
       "<polyline clip-path=\"url(#clip530)\" style=\"stroke:#000000; stroke-linecap:round; stroke-linejoin:round; stroke-width:4; stroke-opacity:1; fill:none\" points=\"1543.63,1271.76 1536.58,1266.78 \"/>\n",
       "<polyline clip-path=\"url(#clip530)\" style=\"stroke:#000000; stroke-linecap:round; stroke-linejoin:round; stroke-width:4; stroke-opacity:1; fill:none\" points=\"1658.32,1190.66 1651.27,1185.68 \"/>\n",
       "<polyline clip-path=\"url(#clip530)\" style=\"stroke:#000000; stroke-linecap:round; stroke-linejoin:round; stroke-width:4; stroke-opacity:1; fill:none\" points=\"1773.02,1109.56 1765.96,1104.58 \"/>\n",
       "<path clip-path=\"url(#clip530)\" d=\"M1348.23 1438.3 Q1344.62 1438.3 1342.79 1441.86 Q1340.99 1445.4 1340.99 1452.53 Q1340.99 1459.64 1342.79 1463.2 Q1344.62 1466.75 1348.23 1466.75 Q1351.87 1466.75 1353.67 1463.2 Q1355.5 1459.64 1355.5 1452.53 Q1355.5 1445.4 1353.67 1441.86 Q1351.87 1438.3 1348.23 1438.3 M1348.23 1434.59 Q1354.04 1434.59 1357.1 1439.2 Q1360.18 1443.78 1360.18 1452.53 Q1360.18 1461.26 1357.1 1465.87 Q1354.04 1470.45 1348.23 1470.45 Q1342.42 1470.45 1339.34 1465.87 Q1336.29 1461.26 1336.29 1452.53 Q1336.29 1443.78 1339.34 1439.2 Q1342.42 1434.59 1348.23 1434.59 Z\" fill=\"#000000\" fill-rule=\"nonzero\" fill-opacity=\"1\" /><path clip-path=\"url(#clip530)\" d=\"M1368.4 1463.9 L1373.28 1463.9 L1373.28 1469.78 L1368.4 1469.78 L1368.4 1463.9 Z\" fill=\"#000000\" fill-rule=\"nonzero\" fill-opacity=\"1\" /><path clip-path=\"url(#clip530)\" d=\"M1387.49 1465.84 L1403.81 1465.84 L1403.81 1469.78 L1381.87 1469.78 L1381.87 1465.84 Q1384.53 1463.09 1389.11 1458.46 Q1393.72 1453.81 1394.9 1452.46 Q1397.15 1449.94 1398.03 1448.2 Q1398.93 1446.44 1398.93 1444.75 Q1398.93 1442 1396.98 1440.26 Q1395.06 1438.53 1391.96 1438.53 Q1389.76 1438.53 1387.31 1439.29 Q1384.88 1440.06 1382.1 1441.61 L1382.1 1436.88 Q1384.92 1435.75 1387.38 1435.17 Q1389.83 1434.59 1391.87 1434.59 Q1397.24 1434.59 1400.43 1437.28 Q1403.63 1439.96 1403.63 1444.45 Q1403.63 1446.58 1402.82 1448.5 Q1402.03 1450.4 1399.92 1453 Q1399.34 1453.67 1396.24 1456.88 Q1393.14 1460.08 1387.49 1465.84 Z\" fill=\"#000000\" fill-rule=\"nonzero\" fill-opacity=\"1\" /><path clip-path=\"url(#clip530)\" d=\"M1462.93 1357.2 Q1459.31 1357.2 1457.49 1360.76 Q1455.68 1364.3 1455.68 1371.43 Q1455.68 1378.54 1457.49 1382.1 Q1459.31 1385.65 1462.93 1385.65 Q1466.56 1385.65 1468.37 1382.1 Q1470.19 1378.54 1470.19 1371.43 Q1470.19 1364.3 1468.37 1360.76 Q1466.56 1357.2 1462.93 1357.2 M1462.93 1353.49 Q1468.74 1353.49 1471.79 1358.1 Q1474.87 1362.68 1474.87 1371.43 Q1474.87 1380.16 1471.79 1384.77 Q1468.74 1389.35 1462.93 1389.35 Q1457.12 1389.35 1454.04 1384.77 Q1450.98 1380.16 1450.98 1371.43 Q1450.98 1362.68 1454.04 1358.1 Q1457.12 1353.49 1462.93 1353.49 Z\" fill=\"#000000\" fill-rule=\"nonzero\" fill-opacity=\"1\" /><path clip-path=\"url(#clip530)\" d=\"M1483.09 1382.8 L1487.97 1382.8 L1487.97 1388.68 L1483.09 1388.68 L1483.09 1382.8 Z\" fill=\"#000000\" fill-rule=\"nonzero\" fill-opacity=\"1\" /><path clip-path=\"url(#clip530)\" d=\"M1512.32 1370.04 Q1515.68 1370.76 1517.56 1373.03 Q1519.45 1375.3 1519.45 1378.63 Q1519.45 1383.75 1515.93 1386.55 Q1512.42 1389.35 1505.93 1389.35 Q1503.76 1389.35 1501.44 1388.91 Q1499.15 1388.49 1496.7 1387.64 L1496.7 1383.12 Q1498.64 1384.26 1500.96 1384.84 Q1503.27 1385.41 1505.8 1385.41 Q1510.19 1385.41 1512.49 1383.68 Q1514.8 1381.94 1514.8 1378.63 Q1514.8 1375.58 1512.65 1373.86 Q1510.52 1372.13 1506.7 1372.13 L1502.67 1372.13 L1502.67 1368.28 L1506.88 1368.28 Q1510.33 1368.28 1512.16 1366.92 Q1513.99 1365.53 1513.99 1362.94 Q1513.99 1360.28 1512.09 1358.86 Q1510.22 1357.43 1506.7 1357.43 Q1504.78 1357.43 1502.58 1357.85 Q1500.38 1358.26 1497.74 1359.14 L1497.74 1354.97 Q1500.4 1354.23 1502.72 1353.86 Q1505.06 1353.49 1507.12 1353.49 Q1512.44 1353.49 1515.54 1355.92 Q1518.64 1358.33 1518.64 1362.45 Q1518.64 1365.32 1517 1367.31 Q1515.36 1369.28 1512.32 1370.04 Z\" fill=\"#000000\" fill-rule=\"nonzero\" fill-opacity=\"1\" /><path clip-path=\"url(#clip530)\" d=\"M1577.62 1276.1 Q1574.01 1276.1 1572.18 1279.66 Q1570.37 1283.2 1570.37 1290.33 Q1570.37 1297.44 1572.18 1301 Q1574.01 1304.55 1577.62 1304.55 Q1581.25 1304.55 1583.06 1301 Q1584.89 1297.44 1584.89 1290.33 Q1584.89 1283.2 1583.06 1279.66 Q1581.25 1276.1 1577.62 1276.1 M1577.62 1272.39 Q1583.43 1272.39 1586.48 1277 Q1589.56 1281.58 1589.56 1290.33 Q1589.56 1299.06 1586.48 1303.67 Q1583.43 1308.25 1577.62 1308.25 Q1571.81 1308.25 1568.73 1303.67 Q1565.67 1299.06 1565.67 1290.33 Q1565.67 1281.58 1568.73 1277 Q1571.81 1272.39 1577.62 1272.39 Z\" fill=\"#000000\" fill-rule=\"nonzero\" fill-opacity=\"1\" /><path clip-path=\"url(#clip530)\" d=\"M1597.78 1301.7 L1602.66 1301.7 L1602.66 1307.58 L1597.78 1307.58 L1597.78 1301.7 Z\" fill=\"#000000\" fill-rule=\"nonzero\" fill-opacity=\"1\" /><path clip-path=\"url(#clip530)\" d=\"M1625.7 1277.09 L1613.89 1295.54 L1625.7 1295.54 L1625.7 1277.09 M1624.47 1273.02 L1630.35 1273.02 L1630.35 1295.54 L1635.28 1295.54 L1635.28 1299.43 L1630.35 1299.43 L1630.35 1307.58 L1625.7 1307.58 L1625.7 1299.43 L1610.09 1299.43 L1610.09 1294.92 L1624.47 1273.02 Z\" fill=\"#000000\" fill-rule=\"nonzero\" fill-opacity=\"1\" /><path clip-path=\"url(#clip530)\" d=\"M1692.31 1195 Q1688.7 1195 1686.87 1198.56 Q1685.06 1202.1 1685.06 1209.23 Q1685.06 1216.34 1686.87 1219.9 Q1688.7 1223.45 1692.31 1223.45 Q1695.94 1223.45 1697.75 1219.9 Q1699.58 1216.34 1699.58 1209.23 Q1699.58 1202.1 1697.75 1198.56 Q1695.94 1195 1692.31 1195 M1692.31 1191.29 Q1698.12 1191.29 1701.18 1195.9 Q1704.25 1200.48 1704.25 1209.23 Q1704.25 1217.96 1701.18 1222.57 Q1698.12 1227.15 1692.31 1227.15 Q1686.5 1227.15 1683.42 1222.57 Q1680.37 1217.96 1680.37 1209.23 Q1680.37 1200.48 1683.42 1195.9 Q1686.5 1191.29 1692.31 1191.29 Z\" fill=\"#000000\" fill-rule=\"nonzero\" fill-opacity=\"1\" /><path clip-path=\"url(#clip530)\" d=\"M1712.47 1220.6 L1717.36 1220.6 L1717.36 1226.48 L1712.47 1226.48 L1712.47 1220.6 Z\" fill=\"#000000\" fill-rule=\"nonzero\" fill-opacity=\"1\" /><path clip-path=\"url(#clip530)\" d=\"M1727.59 1191.92 L1745.94 1191.92 L1745.94 1195.85 L1731.87 1195.85 L1731.87 1204.33 Q1732.89 1203.98 1733.91 1203.82 Q1734.93 1203.63 1735.94 1203.63 Q1741.73 1203.63 1745.11 1206.8 Q1748.49 1209.97 1748.49 1215.39 Q1748.49 1220.97 1745.02 1224.07 Q1741.55 1227.15 1735.23 1227.15 Q1733.05 1227.15 1730.78 1226.78 Q1728.54 1226.41 1726.13 1225.67 L1726.13 1220.97 Q1728.21 1222.1 1730.44 1222.66 Q1732.66 1223.22 1735.13 1223.22 Q1739.14 1223.22 1741.48 1221.11 Q1743.81 1219 1743.81 1215.39 Q1743.81 1211.78 1741.48 1209.67 Q1739.14 1207.57 1735.13 1207.57 Q1733.26 1207.57 1731.38 1207.98 Q1729.53 1208.4 1727.59 1209.28 L1727.59 1191.92 Z\" fill=\"#000000\" fill-rule=\"nonzero\" fill-opacity=\"1\" /><path clip-path=\"url(#clip530)\" d=\"M1807 1113.9 Q1803.39 1113.9 1801.56 1117.46 Q1799.76 1121 1799.76 1128.13 Q1799.76 1135.24 1801.56 1138.81 Q1803.39 1142.35 1807 1142.35 Q1810.64 1142.35 1812.44 1138.81 Q1814.27 1135.24 1814.27 1128.13 Q1814.27 1121 1812.44 1117.46 Q1810.64 1113.9 1807 1113.9 M1807 1110.19 Q1812.81 1110.19 1815.87 1114.8 Q1818.95 1119.38 1818.95 1128.13 Q1818.95 1136.86 1815.87 1141.47 Q1812.81 1146.05 1807 1146.05 Q1801.19 1146.05 1798.11 1141.47 Q1795.06 1136.86 1795.06 1128.13 Q1795.06 1119.38 1798.11 1114.8 Q1801.19 1110.19 1807 1110.19 Z\" fill=\"#000000\" fill-rule=\"nonzero\" fill-opacity=\"1\" /><path clip-path=\"url(#clip530)\" d=\"M1827.16 1139.5 L1832.05 1139.5 L1832.05 1145.38 L1827.16 1145.38 L1827.16 1139.5 Z\" fill=\"#000000\" fill-rule=\"nonzero\" fill-opacity=\"1\" /><path clip-path=\"url(#clip530)\" d=\"M1852.81 1126.24 Q1849.66 1126.24 1847.81 1128.39 Q1845.98 1130.54 1845.98 1134.29 Q1845.98 1138.02 1847.81 1140.19 Q1849.66 1142.35 1852.81 1142.35 Q1855.96 1142.35 1857.79 1140.19 Q1859.64 1138.02 1859.64 1134.29 Q1859.64 1130.54 1857.79 1128.39 Q1855.96 1126.24 1852.81 1126.24 M1862.09 1111.58 L1862.09 1115.84 Q1860.34 1115.01 1858.53 1114.57 Q1856.75 1114.13 1854.99 1114.13 Q1850.36 1114.13 1847.91 1117.25 Q1845.47 1120.38 1845.13 1126.7 Q1846.49 1124.69 1848.55 1123.62 Q1850.61 1122.53 1853.09 1122.53 Q1858.3 1122.53 1861.31 1125.7 Q1864.34 1128.85 1864.34 1134.29 Q1864.34 1139.62 1861.19 1142.83 Q1858.04 1146.05 1852.81 1146.05 Q1846.82 1146.05 1843.65 1141.47 Q1840.47 1136.86 1840.47 1128.13 Q1840.47 1119.94 1844.36 1115.08 Q1848.25 1110.19 1854.8 1110.19 Q1856.56 1110.19 1858.34 1110.54 Q1860.15 1110.89 1862.09 1111.58 Z\" fill=\"#000000\" fill-rule=\"nonzero\" fill-opacity=\"1\" /><polyline clip-path=\"url(#clip530)\" style=\"stroke:#000000; stroke-linecap:round; stroke-linejoin:round; stroke-width:4; stroke-opacity:1; fill:none\" points=\"667.125,1060.62 667.125,473.07 \"/>\n",
       "<polyline clip-path=\"url(#clip530)\" style=\"stroke:#000000; stroke-linecap:round; stroke-linejoin:round; stroke-width:4; stroke-opacity:1; fill:none\" points=\"667.125,918.631 674.175,913.645 \"/>\n",
       "<polyline clip-path=\"url(#clip530)\" style=\"stroke:#000000; stroke-linecap:round; stroke-linejoin:round; stroke-width:4; stroke-opacity:1; fill:none\" points=\"667.125,775.653 674.175,770.668 \"/>\n",
       "<polyline clip-path=\"url(#clip530)\" style=\"stroke:#000000; stroke-linecap:round; stroke-linejoin:round; stroke-width:4; stroke-opacity:1; fill:none\" points=\"667.125,632.676 674.175,627.69 \"/>\n",
       "<polyline clip-path=\"url(#clip530)\" style=\"stroke:#000000; stroke-linecap:round; stroke-linejoin:round; stroke-width:4; stroke-opacity:1; fill:none\" points=\"667.125,489.699 674.175,484.713 \"/>\n",
       "<path clip-path=\"url(#clip530)\" d=\"M582.746 904.429 Q579.135 904.429 577.306 907.994 Q575.501 911.536 575.501 918.666 Q575.501 925.772 577.306 929.337 Q579.135 932.878 582.746 932.878 Q586.38 932.878 588.186 929.337 Q590.015 925.772 590.015 918.666 Q590.015 911.536 588.186 907.994 Q586.38 904.429 582.746 904.429 M582.746 900.726 Q588.556 900.726 591.612 905.332 Q594.691 909.916 594.691 918.666 Q594.691 927.392 591.612 931.999 Q588.556 936.582 582.746 936.582 Q576.936 936.582 573.857 931.999 Q570.802 927.392 570.802 918.666 Q570.802 909.916 573.857 905.332 Q576.936 900.726 582.746 900.726 Z\" fill=\"#000000\" fill-rule=\"nonzero\" fill-opacity=\"1\" /><path clip-path=\"url(#clip530)\" d=\"M602.908 930.031 L607.792 930.031 L607.792 935.911 L602.908 935.911 L602.908 930.031 Z\" fill=\"#000000\" fill-rule=\"nonzero\" fill-opacity=\"1\" /><path clip-path=\"url(#clip530)\" d=\"M622.005 931.976 L638.325 931.976 L638.325 935.911 L616.38 935.911 L616.38 931.976 Q619.042 929.221 623.626 924.591 Q628.232 919.939 629.413 918.596 Q631.658 916.073 632.538 914.337 Q633.44 912.578 633.44 910.888 Q633.44 908.133 631.496 906.397 Q629.575 904.661 626.473 904.661 Q624.274 904.661 621.82 905.425 Q619.39 906.189 616.612 907.74 L616.612 903.017 Q619.436 901.883 621.889 901.304 Q624.343 900.726 626.38 900.726 Q631.751 900.726 634.945 903.411 Q638.139 906.096 638.139 910.587 Q638.139 912.716 637.329 914.638 Q636.542 916.536 634.436 919.128 Q633.857 919.8 630.755 923.017 Q627.653 926.212 622.005 931.976 Z\" fill=\"#000000\" fill-rule=\"nonzero\" fill-opacity=\"1\" /><path clip-path=\"url(#clip530)\" d=\"M580.663 761.452 Q577.052 761.452 575.223 765.017 Q573.418 768.559 573.418 775.688 Q573.418 782.795 575.223 786.359 Q577.052 789.901 580.663 789.901 Q584.297 789.901 586.103 786.359 Q587.931 782.795 587.931 775.688 Q587.931 768.559 586.103 765.017 Q584.297 761.452 580.663 761.452 M580.663 757.748 Q586.473 757.748 589.529 762.355 Q592.607 766.938 592.607 775.688 Q592.607 784.415 589.529 789.021 Q586.473 793.605 580.663 793.605 Q574.853 793.605 571.774 789.021 Q568.718 784.415 568.718 775.688 Q568.718 766.938 571.774 762.355 Q574.853 757.748 580.663 757.748 Z\" fill=\"#000000\" fill-rule=\"nonzero\" fill-opacity=\"1\" /><path clip-path=\"url(#clip530)\" d=\"M600.825 787.054 L605.709 787.054 L605.709 792.933 L600.825 792.933 L600.825 787.054 Z\" fill=\"#000000\" fill-rule=\"nonzero\" fill-opacity=\"1\" /><path clip-path=\"url(#clip530)\" d=\"M628.741 762.447 L616.936 780.896 L628.741 780.896 L628.741 762.447 M627.514 758.373 L633.394 758.373 L633.394 780.896 L638.325 780.896 L638.325 784.785 L633.394 784.785 L633.394 792.933 L628.741 792.933 L628.741 784.785 L613.14 784.785 L613.14 780.271 L627.514 758.373 Z\" fill=\"#000000\" fill-rule=\"nonzero\" fill-opacity=\"1\" /><path clip-path=\"url(#clip530)\" d=\"M580.987 618.475 Q577.376 618.475 575.547 622.039 Q573.742 625.581 573.742 632.711 Q573.742 639.817 575.547 643.382 Q577.376 646.924 580.987 646.924 Q584.621 646.924 586.427 643.382 Q588.255 639.817 588.255 632.711 Q588.255 625.581 586.427 622.039 Q584.621 618.475 580.987 618.475 M580.987 614.771 Q586.797 614.771 589.853 619.377 Q592.931 623.961 592.931 632.711 Q592.931 641.438 589.853 646.044 Q586.797 650.627 580.987 650.627 Q575.177 650.627 572.098 646.044 Q569.043 641.438 569.043 632.711 Q569.043 623.961 572.098 619.377 Q575.177 614.771 580.987 614.771 Z\" fill=\"#000000\" fill-rule=\"nonzero\" fill-opacity=\"1\" /><path clip-path=\"url(#clip530)\" d=\"M601.149 644.076 L606.033 644.076 L606.033 649.956 L601.149 649.956 L601.149 644.076 Z\" fill=\"#000000\" fill-rule=\"nonzero\" fill-opacity=\"1\" /><path clip-path=\"url(#clip530)\" d=\"M626.797 630.813 Q623.649 630.813 621.797 632.965 Q619.968 635.118 619.968 638.868 Q619.968 642.595 621.797 644.771 Q623.649 646.924 626.797 646.924 Q629.945 646.924 631.774 644.771 Q633.626 642.595 633.626 638.868 Q633.626 635.118 631.774 632.965 Q629.945 630.813 626.797 630.813 M636.079 616.16 L636.079 620.419 Q634.32 619.586 632.514 619.146 Q630.732 618.706 628.973 618.706 Q624.343 618.706 621.889 621.831 Q619.459 624.956 619.112 631.276 Q620.477 629.262 622.538 628.197 Q624.598 627.109 627.075 627.109 Q632.283 627.109 635.292 630.28 Q638.325 633.428 638.325 638.868 Q638.325 644.192 635.176 647.41 Q632.028 650.627 626.797 650.627 Q620.802 650.627 617.63 646.044 Q614.459 641.438 614.459 632.711 Q614.459 624.516 618.348 619.655 Q622.237 614.771 628.788 614.771 Q630.547 614.771 632.329 615.118 Q634.135 615.465 636.079 616.16 Z\" fill=\"#000000\" fill-rule=\"nonzero\" fill-opacity=\"1\" /><path clip-path=\"url(#clip530)\" d=\"M581.242 475.497 Q577.63 475.497 575.802 479.062 Q573.996 482.604 573.996 489.733 Q573.996 496.84 575.802 500.405 Q577.63 503.946 581.242 503.946 Q584.876 503.946 586.681 500.405 Q588.51 496.84 588.51 489.733 Q588.51 482.604 586.681 479.062 Q584.876 475.497 581.242 475.497 M581.242 471.794 Q587.052 471.794 590.107 476.4 Q593.186 480.983 593.186 489.733 Q593.186 498.46 590.107 503.067 Q587.052 507.65 581.242 507.65 Q575.431 507.65 572.353 503.067 Q569.297 498.46 569.297 489.733 Q569.297 480.983 572.353 476.4 Q575.431 471.794 581.242 471.794 Z\" fill=\"#000000\" fill-rule=\"nonzero\" fill-opacity=\"1\" /><path clip-path=\"url(#clip530)\" d=\"M601.403 501.099 L606.288 501.099 L606.288 506.979 L601.403 506.979 L601.403 501.099 Z\" fill=\"#000000\" fill-rule=\"nonzero\" fill-opacity=\"1\" /><path clip-path=\"url(#clip530)\" d=\"M626.473 490.567 Q623.139 490.567 621.218 492.349 Q619.32 494.131 619.32 497.256 Q619.32 500.381 621.218 502.164 Q623.139 503.946 626.473 503.946 Q629.806 503.946 631.727 502.164 Q633.649 500.358 633.649 497.256 Q633.649 494.131 631.727 492.349 Q629.829 490.567 626.473 490.567 M621.797 488.576 Q618.788 487.835 617.098 485.775 Q615.431 483.715 615.431 480.752 Q615.431 476.608 618.371 474.201 Q621.334 471.794 626.473 471.794 Q631.635 471.794 634.575 474.201 Q637.514 476.608 637.514 480.752 Q637.514 483.715 635.825 485.775 Q634.158 487.835 631.172 488.576 Q634.551 489.363 636.426 491.655 Q638.325 493.946 638.325 497.256 Q638.325 502.28 635.246 504.965 Q632.19 507.65 626.473 507.65 Q620.755 507.65 617.677 504.965 Q614.621 502.28 614.621 497.256 Q614.621 493.946 616.519 491.655 Q618.417 489.363 621.797 488.576 M620.084 481.192 Q620.084 483.877 621.751 485.381 Q623.44 486.886 626.473 486.886 Q629.482 486.886 631.172 485.381 Q632.885 483.877 632.885 481.192 Q632.885 478.507 631.172 477.002 Q629.482 475.497 626.473 475.497 Q623.44 475.497 621.751 477.002 Q620.084 478.507 620.084 481.192 Z\" fill=\"#000000\" fill-rule=\"nonzero\" fill-opacity=\"1\" /><circle clip-path=\"url(#clip532)\" cx=\"743.323\" cy=\"459.335\" r=\"14.4\" fill=\"#ff0000\" fill-rule=\"evenodd\" fill-opacity=\"1\" stroke=\"#000000\" stroke-opacity=\"1\" stroke-width=\"3.2\"/>\n",
       "<circle clip-path=\"url(#clip532)\" cx=\"1178.29\" cy=\"459.259\" r=\"14.4\" fill=\"#ff0000\" fill-rule=\"evenodd\" fill-opacity=\"1\" stroke=\"#000000\" stroke-opacity=\"1\" stroke-width=\"3.2\"/>\n",
       "<circle clip-path=\"url(#clip532)\" cx=\"1329.45\" cy=\"547.746\" r=\"14.4\" fill=\"#ff0000\" fill-rule=\"evenodd\" fill-opacity=\"1\" stroke=\"#000000\" stroke-opacity=\"1\" stroke-width=\"3.2\"/>\n",
       "<circle clip-path=\"url(#clip532)\" cx=\"1372.81\" cy=\"657.583\" r=\"14.4\" fill=\"#ff0000\" fill-rule=\"evenodd\" fill-opacity=\"1\" stroke=\"#000000\" stroke-opacity=\"1\" stroke-width=\"3.2\"/>\n",
       "<circle clip-path=\"url(#clip532)\" cx=\"1376.48\" cy=\"764.546\" r=\"14.4\" fill=\"#ff0000\" fill-rule=\"evenodd\" fill-opacity=\"1\" stroke=\"#000000\" stroke-opacity=\"1\" stroke-width=\"3.2\"/>\n",
       "<circle clip-path=\"url(#clip532)\" cx=\"1366.66\" cy=\"860.863\" r=\"14.4\" fill=\"#ff0000\" fill-rule=\"evenodd\" fill-opacity=\"1\" stroke=\"#000000\" stroke-opacity=\"1\" stroke-width=\"3.2\"/>\n",
       "<circle clip-path=\"url(#clip532)\" cx=\"1353.25\" cy=\"944.92\" r=\"14.4\" fill=\"#ff0000\" fill-rule=\"evenodd\" fill-opacity=\"1\" stroke=\"#000000\" stroke-opacity=\"1\" stroke-width=\"3.2\"/>\n",
       "<circle clip-path=\"url(#clip532)\" cx=\"1339.87\" cy=\"1017.29\" r=\"14.4\" fill=\"#ff0000\" fill-rule=\"evenodd\" fill-opacity=\"1\" stroke=\"#000000\" stroke-opacity=\"1\" stroke-width=\"3.2\"/>\n",
       "<circle clip-path=\"url(#clip532)\" cx=\"1327.72\" cy=\"1079.23\" r=\"14.4\" fill=\"#ff0000\" fill-rule=\"evenodd\" fill-opacity=\"1\" stroke=\"#000000\" stroke-opacity=\"1\" stroke-width=\"3.2\"/>\n",
       "<circle clip-path=\"url(#clip532)\" cx=\"1317.07\" cy=\"1132.1\" r=\"14.4\" fill=\"#ff0000\" fill-rule=\"evenodd\" fill-opacity=\"1\" stroke=\"#000000\" stroke-opacity=\"1\" stroke-width=\"3.2\"/>\n",
       "<circle clip-path=\"url(#clip532)\" cx=\"1307.88\" cy=\"1177.17\" r=\"14.4\" fill=\"#ff0000\" fill-rule=\"evenodd\" fill-opacity=\"1\" stroke=\"#000000\" stroke-opacity=\"1\" stroke-width=\"3.2\"/>\n",
       "<circle clip-path=\"url(#clip532)\" cx=\"1300.01\" cy=\"1215.57\" r=\"14.4\" fill=\"#ff0000\" fill-rule=\"evenodd\" fill-opacity=\"1\" stroke=\"#000000\" stroke-opacity=\"1\" stroke-width=\"3.2\"/>\n",
       "<circle clip-path=\"url(#clip532)\" cx=\"1293.29\" cy=\"1248.27\" r=\"14.4\" fill=\"#ff0000\" fill-rule=\"evenodd\" fill-opacity=\"1\" stroke=\"#000000\" stroke-opacity=\"1\" stroke-width=\"3.2\"/>\n",
       "<circle clip-path=\"url(#clip532)\" cx=\"1287.57\" cy=\"1276.12\" r=\"14.4\" fill=\"#ff0000\" fill-rule=\"evenodd\" fill-opacity=\"1\" stroke=\"#000000\" stroke-opacity=\"1\" stroke-width=\"3.2\"/>\n",
       "<circle clip-path=\"url(#clip532)\" cx=\"1282.69\" cy=\"1299.84\" r=\"14.4\" fill=\"#ff0000\" fill-rule=\"evenodd\" fill-opacity=\"1\" stroke=\"#000000\" stroke-opacity=\"1\" stroke-width=\"3.2\"/>\n",
       "<circle clip-path=\"url(#clip532)\" cx=\"1278.53\" cy=\"1320.04\" r=\"14.4\" fill=\"#ff0000\" fill-rule=\"evenodd\" fill-opacity=\"1\" stroke=\"#000000\" stroke-opacity=\"1\" stroke-width=\"3.2\"/>\n",
       "<circle clip-path=\"url(#clip532)\" cx=\"1274.99\" cy=\"1337.25\" r=\"14.4\" fill=\"#ff0000\" fill-rule=\"evenodd\" fill-opacity=\"1\" stroke=\"#000000\" stroke-opacity=\"1\" stroke-width=\"3.2\"/>\n",
       "<circle clip-path=\"url(#clip532)\" cx=\"1271.98\" cy=\"1351.89\" r=\"14.4\" fill=\"#ff0000\" fill-rule=\"evenodd\" fill-opacity=\"1\" stroke=\"#000000\" stroke-opacity=\"1\" stroke-width=\"3.2\"/>\n",
       "<circle clip-path=\"url(#clip532)\" cx=\"1269.41\" cy=\"1364.37\" r=\"14.4\" fill=\"#ff0000\" fill-rule=\"evenodd\" fill-opacity=\"1\" stroke=\"#000000\" stroke-opacity=\"1\" stroke-width=\"3.2\"/>\n",
       "<circle clip-path=\"url(#clip532)\" cx=\"1267.22\" cy=\"1374.99\" r=\"14.4\" fill=\"#ff0000\" fill-rule=\"evenodd\" fill-opacity=\"1\" stroke=\"#000000\" stroke-opacity=\"1\" stroke-width=\"3.2\"/>\n",
       "<circle clip-path=\"url(#clip532)\" cx=\"1254.68\" cy=\"1435.94\" r=\"14.4\" fill=\"#000000\" fill-rule=\"evenodd\" fill-opacity=\"1\" stroke=\"none\"/>\n",
       "</svg>\n"
      ]
     },
     "execution_count": 26,
     "metadata": {},
     "output_type": "execute_result"
    }
   ],
   "source": [
    "P = [0.971 0.029 0.000\n",
    "     0.145 0.778 0.077\n",
    "     0.000 0.508 0.492] # stochastic matrix\n",
    "\n",
    "psi = [0.0 0.2 0.8] # initial distribution\n",
    "\n",
    "t = 20 # path length\n",
    "x_vals = zeros(t)\n",
    "y_vals = similar(x_vals)\n",
    "z_vals = similar(x_vals)\n",
    "colors = [repeat([:red], 20); :black] # for plotting\n",
    "\n",
    "for i in 1:t\n",
    "    x_vals[i] = psi[1]\n",
    "    y_vals[i] = psi[2]\n",
    "    z_vals[i] = psi[3]\n",
    "    psi = psi * P # update distribution\n",
    "end\n",
    "\n",
    "mc = MarkovChain(P)\n",
    "psi_star = stationary_distributions(mc)[1]\n",
    "x_star, y_star, z_star = psi_star # unpack the stationary dist\n",
    "plt = scatter([x_vals; x_star], [y_vals; y_star], [z_vals; z_star], color = colors,\n",
    "              gridalpha = 0.5, legend = :none)\n",
    "plot!(plt, camera = (45, 45))"
   ]
  },
  {
   "cell_type": "markdown",
   "id": "6101d0eb",
   "metadata": {},
   "source": [
    "Here\n",
    "\n",
    "- $ P $ is the stochastic matrix for recession and growth [considered above](#mc-eg2)  \n",
    "- The highest red dot is an arbitrarily chosen initial probability distribution  $ \\psi $, represented as a vector in $ \\mathbb R^3 $  \n",
    "- The other red dots are the distributions $ \\psi P^t $ for $ t = 1, 2, \\ldots $  \n",
    "- The black dot is $ \\psi^* $  \n",
    "\n",
    "\n",
    "The code for the figure can be found [here](https://github.com/QuantEcon/QuantEcon.lectures.code/blob/master/finite_markov/mc_convergence_plot.jl) — you might like to try experimenting with different initial conditions.\n",
    "\n",
    "\n",
    "<a id='ergodicity'></a>"
   ]
  },
  {
   "cell_type": "markdown",
   "id": "06b10f4b",
   "metadata": {},
   "source": [
    "## Ergodicity\n",
    "\n",
    "\n",
    "<a id='index-17'></a>\n",
    "Under irreducibility, yet another important result obtains: For all $ x \\in S $,\n",
    "\n",
    "\n",
    "<a id='equation-llnfmc0'></a>\n",
    "$$\n",
    "\\frac{1}{m} \\sum_{t = 1}^m \\mathbf{1}\\{X_t = x\\}  \\to \\psi^*(x)\n",
    "    \\quad \\text{as } m \\to \\infty \\tag{23.7}\n",
    "$$\n",
    "\n",
    "Here\n",
    "\n",
    "- $ \\mathbf{1}\\{X_t = x\\} = 1 $ if $ X_t = x $ and zero otherwise  \n",
    "- convergence is with probability one  \n",
    "- the result does not depend on the distribution (or value) of $ X_0 $  \n",
    "\n",
    "\n",
    "The result tells us that the fraction of time the chain spends at state $ x $ converges to $ \\psi^*(x) $ as time goes to infinity.\n",
    "\n",
    "\n",
    "<a id='new-interp-sd'></a>\n",
    "This gives us another way to interpret the stationary distribution — provided that the convergence result in [(23.8)](#equation-llnfmc0) is valid.\n",
    "\n",
    "The convergence in [(23.8)](#equation-llnfmc0) is a special case of a law of large numbers result for Markov chains — see [EDTC](http://johnstachurski.net/edtc.html), section 4.3.4 for some additional information.\n",
    "\n",
    "\n",
    "<a id='mc-eg1-2'></a>"
   ]
  },
  {
   "cell_type": "markdown",
   "id": "e8162e96",
   "metadata": {},
   "source": [
    "### Example\n",
    "\n",
    "Recall our cross-sectional interpretation of the employment / unemployment model [discussed above](#mc-eg1-1).\n",
    "\n",
    "Assume that $ \\alpha \\in (0,1) $ and $ \\beta \\in (0,1) $, so that irreducibility and aperiodicity both hold.\n",
    "\n",
    "We saw that the stationary distribution is $ (p, 1-p) $, where\n",
    "\n",
    "$$\n",
    "p = \\frac{\\beta}{\\alpha + \\beta}\n",
    "$$\n",
    "\n",
    "In the cross-sectional interpretation, this is the fraction of people unemployed.\n",
    "\n",
    "In view of our latest (ergodicity) result, it is also the fraction of time that a worker can expect to spend unemployed.\n",
    "\n",
    "Thus, in the long-run, cross-sectional averages for a population and time-series averages for a given person coincide.\n",
    "\n",
    "This is one interpretation of the notion of ergodicity.\n",
    "\n",
    "\n",
    "<a id='finite-mc-expec'></a>"
   ]
  },
  {
   "cell_type": "markdown",
   "id": "010072f4",
   "metadata": {},
   "source": [
    "## Computing Expectations\n",
    "\n",
    "\n",
    "<a id='index-18'></a>\n",
    "We are interested in computing expectations of the form\n",
    "\n",
    "\n",
    "<a id='equation-mc-une'></a>\n",
    "$$\n",
    "\\mathbb E [ h(X_t) ] \\tag{23.8}\n",
    "$$\n",
    "\n",
    "and conditional expectations such as\n",
    "\n",
    "\n",
    "<a id='equation-mc-cce'></a>\n",
    "$$\n",
    "\\mathbb E [ h(X_{t + k})  \\mid X_t = x] \\tag{23.9}\n",
    "$$\n",
    "\n",
    "where\n",
    "\n",
    "- $ \\{X_t\\} $ is a Markov chain generated by $ n \\times n $ stochastic matrix $ P $  \n",
    "- $ h $ is a given function, which, in expressions involving matrix\n",
    "  algebra, we’ll think of as the column vector  \n",
    "\n",
    "\n",
    "$$\n",
    "h\n",
    "= \\left(\n",
    "\\begin{array}{c}\n",
    "    h(x_1) \\\\\n",
    "    \\vdots \\\\\n",
    "    h(x_n) \\\\\n",
    "\\end{array}\n",
    "  \\right)\n",
    "$$\n",
    "\n",
    "The unconditional expectation [(23.9)](#equation-mc-une) is easy: We just sum over the\n",
    "distribution of $ X_t $ to get\n",
    "\n",
    "$$\n",
    "\\mathbb E [ h(X_t) ]\n",
    "= \\sum_{x \\in S} (\\psi P^t)(x) h(x)\n",
    "$$\n",
    "\n",
    "Here $ \\psi $ is the distribution of $ X_0 $.\n",
    "\n",
    "Since $ \\psi $ and hence $ \\psi P^t $ are row vectors, we can also\n",
    "write this as\n",
    "\n",
    "$$\n",
    "\\mathbb E [ h(X_t) ]\n",
    "=  \\psi P^t h\n",
    "$$\n",
    "\n",
    "For the conditional expectation [(23.10)](#equation-mc-cce), we need to sum over\n",
    "the conditional distribution of $ X_{t + k} $ given $ X_t = x $.\n",
    "\n",
    "We already know that this is $ P^k(x, \\cdot) $, so\n",
    "\n",
    "\n",
    "<a id='equation-mc-cce2'></a>\n",
    "$$\n",
    "\\mathbb E [ h(X_{t + k})  \\mid X_t = x]\n",
    "= (P^k h)(x) \\tag{23.10}\n",
    "$$\n",
    "\n",
    "The vector $ P^k h $ stores the conditional expectation $ \\mathbb E [ h(X_{t + k})  \\mid X_t = x] $ over all $ x $."
   ]
  },
  {
   "cell_type": "markdown",
   "id": "e22f8d4e",
   "metadata": {},
   "source": [
    "### Expectations of Geometric Sums\n",
    "\n",
    "Sometimes we also want to compute expectations of a geometric sum, such as\n",
    "$ \\sum_t \\beta^t h(X_t) $.\n",
    "\n",
    "In view of the preceding discussion, this is\n",
    "\n",
    "$$\n",
    "\\mathbb{E} \\left[\n",
    "        \\sum_{j=0}^\\infty \\beta^j h(X_{t+j}) \\mid X_t = x\n",
    "    \\right]\n",
    "= [(I - \\beta P)^{-1} h](x)\n",
    "$$\n",
    "\n",
    "where\n",
    "\n",
    "$$\n",
    "(I - \\beta P)^{-1}  = I + \\beta P + \\beta^2 P^2 + \\cdots\n",
    "$$\n",
    "\n",
    "Premultiplication by $ (I - \\beta P)^{-1} $ amounts to “applying the **resolvent operator**”."
   ]
  },
  {
   "cell_type": "markdown",
   "id": "05280917",
   "metadata": {},
   "source": [
    "## Exercises\n",
    "\n",
    "\n",
    "<a id='mc-ex1'></a>"
   ]
  },
  {
   "cell_type": "markdown",
   "id": "2a8032ef",
   "metadata": {},
   "source": [
    "### Exercise 1\n",
    "\n",
    "According to the discussion [above](#mc-eg1-2), if a worker’s employment dynamics obey the stochastic matrix\n",
    "\n",
    "$$\n",
    "P\n",
    "= \\left(\n",
    "\\begin{array}{cc}\n",
    "    1 - \\alpha & \\alpha \\\\\n",
    "    \\beta & 1 - \\beta\n",
    "\\end{array}\n",
    "  \\right)\n",
    "$$\n",
    "\n",
    "with $ \\alpha \\in (0,1) $ and $ \\beta \\in (0,1) $, then, in the long-run, the fraction\n",
    "of time spent unemployed will be\n",
    "\n",
    "$$\n",
    "p := \\frac{\\beta}{\\alpha + \\beta}\n",
    "$$\n",
    "\n",
    "In other words, if $ \\{X_t\\} $ represents the Markov chain for\n",
    "employment, then $ \\bar X_m \\to p $ as $ m \\to \\infty $, where\n",
    "\n",
    "$$\n",
    "\\bar X_m := \\frac{1}{m} \\sum_{t = 1}^m \\mathbf{1}\\{X_t = 1\\}\n",
    "$$\n",
    "\n",
    "Your exercise is to illustrate this convergence.\n",
    "\n",
    "First,\n",
    "\n",
    "- generate one simulated time series $ \\{X_t\\} $ of length 10,000, starting at $ X_0 = 1 $  \n",
    "- plot $ \\bar X_m - p $ against $ m $, where $ p $ is as defined above  \n",
    "\n",
    "\n",
    "Second, repeat the first step, but this time taking $ X_0 = 2 $.\n",
    "\n",
    "In both cases, set $ \\alpha = \\beta = 0.1 $.\n",
    "\n",
    "The result should look something like the following — modulo randomness, of\n",
    "course\n",
    "\n",
    "![https://julia.quantecon.org/_static/figures/mc_ex1_plot.png](https://julia.quantecon.org/_static/figures/mc_ex1_plot.png)\n",
    "\n",
    "  \n",
    "(You don’t need to add the fancy touches to the graph — see the solution if you’re interested)\n",
    "\n",
    "\n",
    "<a id='mc-ex2'></a>"
   ]
  },
  {
   "cell_type": "markdown",
   "id": "dd719af0",
   "metadata": {},
   "source": [
    "### Exercise 2\n",
    "\n",
    "A topic of interest for economics and many other disciplines is *ranking*.\n",
    "\n",
    "Let’s now consider one of the most practical and important ranking problems\n",
    "— the rank assigned to web pages by search engines.\n",
    "\n",
    "(Although the problem is motivated from outside of economics, there is in fact a deep connection between search ranking systems and prices in certain competitive equilibria — see [[DLP13](https://julia.quantecon.org/../zreferences.html#id76)])\n",
    "\n",
    "To understand the issue, consider the set of results returned by a query to a web search engine.\n",
    "\n",
    "For the user, it is desirable to\n",
    "\n",
    "1. receive a large set of accurate matches  \n",
    "1. have the matches returned in order, where the order corresponds to some measure of “importance”  \n",
    "\n",
    "\n",
    "Ranking according to a measure of importance is the problem we now consider.\n",
    "\n",
    "The methodology developed to solve this problem by Google founders Larry Page and Sergey Brin\n",
    "is known as [PageRank](https://en.wikipedia.org/wiki/PageRank).\n",
    "\n",
    "To illustrate the idea, consider the following diagram\n",
    "\n",
    "![https://julia.quantecon.org/_static/figures/web_graph.png](https://julia.quantecon.org/_static/figures/web_graph.png)\n",
    "\n",
    "  \n",
    "Imagine that this is a miniature version of the WWW, with\n",
    "\n",
    "- each node representing a web page  \n",
    "- each arrow representing the existence of a link from one page to another  \n",
    "\n",
    "\n",
    "Now let’s think about which pages are likely to be important, in the sense of being valuable to a search engine user.\n",
    "\n",
    "One possible criterion for importance of a page is the number of inbound links — an indication of popularity.\n",
    "\n",
    "By this measure, `m` and `j` are the most important pages, with 5 inbound links each.\n",
    "\n",
    "However, what if the pages linking to `m`, say, are not themselves important?\n",
    "\n",
    "Thinking this way, it seems appropriate to weight the inbound nodes by relative importance.\n",
    "\n",
    "The PageRank algorithm does precisely this.\n",
    "\n",
    "A slightly simplified presentation that captures the basic idea is as follows.\n",
    "\n",
    "Letting $ j $ be (the integer index of) a typical page and $ r_j $ be its ranking, we set\n",
    "\n",
    "$$\n",
    "r_j = \\sum_{i \\in L_j} \\frac{r_i}{\\ell_i}\n",
    "$$\n",
    "\n",
    "where\n",
    "\n",
    "- $ \\ell_i $ is the total number of outbound links from $ i $  \n",
    "- $ L_j $ is the set of all pages $ i $ such that $ i $ has a link to $ j $  \n",
    "\n",
    "\n",
    "This is a measure of the number of inbound links, weighted by their own ranking (and normalized by $ 1 / \\ell_i $).\n",
    "\n",
    "There is, however, another interpretation, and it brings us back to Markov chains.\n",
    "\n",
    "Let $ P $ be the matrix given by $ P(i, j) = \\mathbf 1\\{i \\to j\\} / \\ell_i $ where $ \\mathbf 1\\{i \\to j\\} = 1 $ if $ i $ has a link to $ j $ and zero otherwise.\n",
    "\n",
    "The matrix $ P $ is a stochastic matrix provided that each page has at least one link.\n",
    "\n",
    "With this definition of $ P $ we have\n",
    "\n",
    "$$\n",
    "r_j\n",
    "= \\sum_{i \\in L_j} \\frac{r_i}{\\ell_i}\n",
    "= \\sum_{\\text{all } i} \\mathbf 1\\{i \\to j\\} \\frac{r_i}{\\ell_i}\n",
    "= \\sum_{\\text{all } i} P(i, j) r_i\n",
    "$$\n",
    "\n",
    "Writing $ r $ for the row vector of rankings, this becomes $ r = r P $.\n",
    "\n",
    "Hence $ r $ is the stationary distribution of the stochastic matrix $ P $.\n",
    "\n",
    "Let’s think of $ P(i, j) $ as the probability of “moving” from page $ i $ to page $ j $.\n",
    "\n",
    "The value $ P(i, j) $ has the interpretation\n",
    "\n",
    "- $ P(i, j) = 1/k $ if $ i $ has $ k $ outbound links, and $ j $ is one of them  \n",
    "- $ P(i, j) = 0 $ if $ i $ has no direct link to $ j $  \n",
    "\n",
    "\n",
    "Thus, motion from page to page is that of a web surfer who moves from one page to another by randomly clicking on one of the links on that page.\n",
    "\n",
    "Here “random” means that each link is selected with equal probability.\n",
    "\n",
    "Since $ r $ is the stationary distribution of $ P $, assuming that the uniform ergodicity condition is valid, we [can interpret](#new-interp-sd) $ r_j $ as the fraction of time that a (very persistent) random surfer spends at page $ j $.\n",
    "\n",
    "Your exercise is to apply this ranking algorithm to the graph pictured above,\n",
    "and return the list of pages ordered by rank.\n",
    "\n",
    "When you solve for the ranking, you will find that the highest ranked node is in fact `g`, while the lowest is `a`.\n",
    "\n",
    "\n",
    "<a id='mc-ex3'></a>"
   ]
  },
  {
   "cell_type": "markdown",
   "id": "e84d52cd",
   "metadata": {},
   "source": [
    "### Exercise 3\n",
    "\n",
    "In numerical work it is sometimes convenient to replace a continuous model with a discrete one.\n",
    "\n",
    "In particular, Markov chains are routinely generated as discrete approximations to AR(1) processes of the form\n",
    "\n",
    "$$\n",
    "y_{t+1} = \\rho y_t + u_{t+1}\n",
    "$$\n",
    "\n",
    "Here $ {u_t} $ is assumed to be i.i.d. and $ N(0, \\sigma_u^2) $.\n",
    "\n",
    "The variance of the stationary probability distribution of $ \\{ y_t \\} $ is\n",
    "\n",
    "$$\n",
    "\\sigma_y^2 := \\frac{\\sigma_u^2}{1-\\rho^2}\n",
    "$$\n",
    "\n",
    "Tauchen’s method [[Tau86](https://julia.quantecon.org/../zreferences.html#id135)] is the most common method for approximating this continuous state process with a finite state Markov chain.\n",
    "\n",
    "A routine for this already exists in [QuantEcon.jl](http://quantecon.org/quantecon-jl) but let’s write our own version as an exercise.\n",
    "\n",
    "As a first step we choose\n",
    "\n",
    "- $ n $, the number of states for the discrete approximation  \n",
    "- $ m $, an integer that parameterizes the width of the state space  \n",
    "\n",
    "\n",
    "Next we create a state space $ \\{x_0, \\ldots, x_{n-1}\\} \\subset \\mathbb R $\n",
    "and a stochastic $ n \\times n $ matrix $ P $ such that\n",
    "\n",
    "- $ x_0 = - m \\, \\sigma_y $  \n",
    "- $ x_{n-1} = m \\, \\sigma_y $  \n",
    "- $ x_{i+1} = x_i + s $ where $ s = (x_{n-1} - x_0) / (n - 1) $  \n",
    "\n",
    "\n",
    "Let $ F $ be the cumulative distribution function of the normal distribution $ N(0, \\sigma_u^2) $.\n",
    "\n",
    "The values $ P(x_i, x_j) $ are computed to approximate the AR(1) process — omitting the derivation, the rules are as follows:\n",
    "\n",
    "1. If $ j = 0 $, then set  \n",
    "\n",
    "\n",
    "$$\n",
    "P(x_i, x_j) = P(x_i, x_0) = F(x_0-\\rho x_i + s/2)\n",
    "$$\n",
    "\n",
    "1. If $ j = n-1 $, then set  \n",
    "\n",
    "\n",
    "$$\n",
    "P(x_i, x_j) = P(x_i, x_{n-1}) = 1 - F(x_{n-1} - \\rho x_i - s/2)\n",
    "$$\n",
    "\n",
    "1. Otherwise, set  \n",
    "\n",
    "\n",
    "$$\n",
    "P(x_i, x_j) = F(x_j - \\rho x_i + s/2) - F(x_j - \\rho x_i - s/2)\n",
    "$$\n",
    "\n",
    "The exercise is to write a function `approx_markov(rho, sigma_u, m = 3, n = 7)` that returns\n",
    "$ \\{x_0, \\ldots, x_{n-1}\\} \\subset \\mathbb R $ and $ n \\times n $ matrix\n",
    "$ P $ as described above.\n",
    "\n",
    "- Even better, write a function that returns an instance of [QuantEcon.jl’s](http://quantecon.org/quantecon-jl) MarkovChain type.  "
   ]
  }
 ],
 "metadata": {
  "date": 1732137475.015987,
  "filename": "finite_markov.md",
  "kernelspec": {
   "display_name": "Julia 1.11.3",
   "language": "julia",
   "name": "julia-1.11"
  },
  "language_info": {
   "file_extension": ".jl",
   "mimetype": "application/julia",
   "name": "julia",
   "version": "1.11.3"
  },
  "title": "Finite Markov Chains"
 },
 "nbformat": 4,
 "nbformat_minor": 5
}
